{
 "cells": [
  {
   "cell_type": "code",
   "execution_count": 46,
   "metadata": {
    "ExecuteTime": {
     "end_time": "2020-10-20T15:57:26.934605Z",
     "start_time": "2020-10-20T15:57:26.930600Z"
    }
   },
   "outputs": [],
   "source": [
    "import pandas as pd\n",
    "import re"
   ]
  },
  {
   "cell_type": "markdown",
   "metadata": {},
   "source": [
    "# Main"
   ]
  },
  {
   "cell_type": "code",
   "execution_count": 84,
   "metadata": {
    "ExecuteTime": {
     "end_time": "2020-10-20T16:09:30.706596Z",
     "start_time": "2020-10-20T16:09:30.640372Z"
    }
   },
   "outputs": [],
   "source": [
    "df_bem_pb = pd.read_csv('bem_candidato_2020/bem_candidato_2020_PB.csv',error_bad_lines=False, encoding='latin-1',delimiter =';')"
   ]
  },
  {
   "cell_type": "code",
   "execution_count": 37,
   "metadata": {
    "ExecuteTime": {
     "end_time": "2020-10-20T15:54:31.589945Z",
     "start_time": "2020-10-20T15:54:31.586948Z"
    }
   },
   "outputs": [],
   "source": [
    "f = open(\"bem_candidato_2020/bem_PB_txt\", \"r\", encoding=\"utf8\")\n",
    "texto = f.readlines()\n",
    "lst_aux = [re.sub(r'\\n',' ',re.sub(r'\"', ' ', element)).split(';') for element in texto]\n",
    "df_pb = pd.DataFrame(lst_aux[1:], columns = lst_aux[0]) "
   ]
  },
  {
   "cell_type": "code",
   "execution_count": 68,
   "metadata": {
    "ExecuteTime": {
     "end_time": "2020-10-20T16:04:28.051017Z",
     "start_time": "2020-10-20T16:04:28.049004Z"
    }
   },
   "outputs": [],
   "source": [
    "#lst_aux = []\n",
    "#for element in texto:\n",
    "#    element_aux = re.sub(r'\"', ' ', element)\n",
    "#    element_aux = re.sub(r'\\n', ' ', element_aux)\n",
    "#    element_aux = element_aux.split(';')\n",
    "#    lst_aux.append(element_aux)"
   ]
  },
  {
   "cell_type": "code",
   "execution_count": 89,
   "metadata": {
    "ExecuteTime": {
     "end_time": "2020-10-20T16:11:36.062331Z",
     "start_time": "2020-10-20T16:11:36.047328Z"
    }
   },
   "outputs": [
    {
     "data": {
      "text/html": [
       "<div>\n",
       "<style scoped>\n",
       "    .dataframe tbody tr th:only-of-type {\n",
       "        vertical-align: middle;\n",
       "    }\n",
       "\n",
       "    .dataframe tbody tr th {\n",
       "        vertical-align: top;\n",
       "    }\n",
       "\n",
       "    .dataframe thead th {\n",
       "        text-align: right;\n",
       "    }\n",
       "</style>\n",
       "<table border=\"1\" class=\"dataframe\">\n",
       "  <thead>\n",
       "    <tr style=\"text-align: right;\">\n",
       "      <th></th>\n",
       "      <th>DT_GERACAO</th>\n",
       "      <th>HH_GERACAO</th>\n",
       "      <th>ANO_ELEICAO</th>\n",
       "      <th>CD_TIPO_ELEICAO</th>\n",
       "      <th>NM_TIPO_ELEICAO</th>\n",
       "      <th>CD_ELEICAO</th>\n",
       "      <th>DS_ELEICAO</th>\n",
       "      <th>DT_ELEICAO</th>\n",
       "      <th>SG_UF</th>\n",
       "      <th>SG_UE</th>\n",
       "      <th>NM_UE</th>\n",
       "      <th>SQ_CANDIDATO</th>\n",
       "      <th>NR_ORDEM_CANDIDATO</th>\n",
       "      <th>CD_TIPO_BEM_CANDIDATO</th>\n",
       "      <th>DS_TIPO_BEM_CANDIDATO</th>\n",
       "      <th>DS_BEM_CANDIDATO</th>\n",
       "      <th>VR_BEM_CANDIDATO</th>\n",
       "      <th>DT_ULTIMA_ATUALIZACAO</th>\n",
       "      <th>HH_ULTIMA_ATUALIZACAO</th>\n",
       "    </tr>\n",
       "  </thead>\n",
       "  <tbody>\n",
       "    <tr>\n",
       "      <th>0</th>\n",
       "      <td>20/10/2020</td>\n",
       "      <td>07:06:40</td>\n",
       "      <td>2020</td>\n",
       "      <td>2</td>\n",
       "      <td>Eleição Ordinária</td>\n",
       "      <td>426</td>\n",
       "      <td>Eleições Municipais 2020</td>\n",
       "      <td>15/11/2020</td>\n",
       "      <td>PB</td>\n",
       "      <td>19666</td>\n",
       "      <td>JOCA CLAUDINO</td>\n",
       "      <td>150000633249</td>\n",
       "      <td>1</td>\n",
       "      <td>24</td>\n",
       "      <td>Bem relacionado com o exercício da atividade ...</td>\n",
       "      <td>TITULAR PROL EQUIPAMENTOS LOGISTICOS EIRELI C...</td>\n",
       "      <td>200000,00</td>\n",
       "      <td>17/10/2020</td>\n",
       "      <td>18:52:47</td>\n",
       "    </tr>\n",
       "    <tr>\n",
       "      <th>1</th>\n",
       "      <td>20/10/2020</td>\n",
       "      <td>07:06:40</td>\n",
       "      <td>2020</td>\n",
       "      <td>2</td>\n",
       "      <td>Eleição Ordinária</td>\n",
       "      <td>426</td>\n",
       "      <td>Eleições Municipais 2020</td>\n",
       "      <td>15/11/2020</td>\n",
       "      <td>PB</td>\n",
       "      <td>19666</td>\n",
       "      <td>JOCA CLAUDINO</td>\n",
       "      <td>150000633249</td>\n",
       "      <td>2</td>\n",
       "      <td>63</td>\n",
       "      <td>Dinheiro em espécie - moeda nacional</td>\n",
       "      <td>RENDIMENTOS TRIBUTÁRIOS RECEBIDOS DE PESSOA F...</td>\n",
       "      <td>28500,00</td>\n",
       "      <td>17/10/2020</td>\n",
       "      <td>18:52:47</td>\n",
       "    </tr>\n",
       "    <tr>\n",
       "      <th>2</th>\n",
       "      <td>20/10/2020</td>\n",
       "      <td>07:06:40</td>\n",
       "      <td>2020</td>\n",
       "      <td>2</td>\n",
       "      <td>Eleição Ordinária</td>\n",
       "      <td>426</td>\n",
       "      <td>Eleições Municipais 2020</td>\n",
       "      <td>15/11/2020</td>\n",
       "      <td>PB</td>\n",
       "      <td>19666</td>\n",
       "      <td>JOCA CLAUDINO</td>\n",
       "      <td>150000633250</td>\n",
       "      <td>1</td>\n",
       "      <td>63</td>\n",
       "      <td>Dinheiro em espécie - moeda nacional</td>\n",
       "      <td>Rendimentos Tributários Recebidos de Pessoa J...</td>\n",
       "      <td>2060,64</td>\n",
       "      <td>17/10/2020</td>\n",
       "      <td>17:56:20</td>\n",
       "    </tr>\n",
       "    <tr>\n",
       "      <th>3</th>\n",
       "      <td>20/10/2020</td>\n",
       "      <td>07:06:40</td>\n",
       "      <td>2020</td>\n",
       "      <td>2</td>\n",
       "      <td>Eleição Ordinária</td>\n",
       "      <td>426</td>\n",
       "      <td>Eleições Municipais 2020</td>\n",
       "      <td>15/11/2020</td>\n",
       "      <td>PB</td>\n",
       "      <td>19666</td>\n",
       "      <td>JOCA CLAUDINO</td>\n",
       "      <td>150000633250</td>\n",
       "      <td>2</td>\n",
       "      <td>63</td>\n",
       "      <td>Dinheiro em espécie - moeda nacional</td>\n",
       "      <td>Rendimentos Tributário Recebidos de Pessoa Ju...</td>\n",
       "      <td>7065,74</td>\n",
       "      <td>17/10/2020</td>\n",
       "      <td>17:56:20</td>\n",
       "    </tr>\n",
       "    <tr>\n",
       "      <th>4</th>\n",
       "      <td>20/10/2020</td>\n",
       "      <td>07:06:40</td>\n",
       "      <td>2020</td>\n",
       "      <td>2</td>\n",
       "      <td>Eleição Ordinária</td>\n",
       "      <td>426</td>\n",
       "      <td>Eleições Municipais 2020</td>\n",
       "      <td>15/11/2020</td>\n",
       "      <td>PB</td>\n",
       "      <td>21075</td>\n",
       "      <td>NOVA PALMEIRA</td>\n",
       "      <td>150000633290</td>\n",
       "      <td>1</td>\n",
       "      <td>11</td>\n",
       "      <td>Apartamento</td>\n",
       "      <td>Apartamento localizado na Rua Espírito Santo,...</td>\n",
       "      <td>90000,00</td>\n",
       "      <td>01/10/2020</td>\n",
       "      <td>17:44:03</td>\n",
       "    </tr>\n",
       "  </tbody>\n",
       "</table>\n",
       "</div>"
      ],
      "text/plain": [
       "    DT_GERACAO   HH_GERACAO   ANO_ELEICAO   CD_TIPO_ELEICAO   \\\n",
       "0   20/10/2020     07:06:40          2020                 2    \n",
       "1   20/10/2020     07:06:40          2020                 2    \n",
       "2   20/10/2020     07:06:40          2020                 2    \n",
       "3   20/10/2020     07:06:40          2020                 2    \n",
       "4   20/10/2020     07:06:40          2020                 2    \n",
       "\n",
       "      NM_TIPO_ELEICAO   CD_ELEICAO                  DS_ELEICAO    DT_ELEICAO   \\\n",
       "0   Eleição Ordinária          426    Eleições Municipais 2020    15/11/2020    \n",
       "1   Eleição Ordinária          426    Eleições Municipais 2020    15/11/2020    \n",
       "2   Eleição Ordinária          426    Eleições Municipais 2020    15/11/2020    \n",
       "3   Eleição Ordinária          426    Eleições Municipais 2020    15/11/2020    \n",
       "4   Eleição Ordinária          426    Eleições Municipais 2020    15/11/2020    \n",
       "\n",
       "   SG_UF    SG_UE            NM_UE    SQ_CANDIDATO   NR_ORDEM_CANDIDATO   \\\n",
       "0     PB    19666    JOCA CLAUDINO    150000633249                    1    \n",
       "1     PB    19666    JOCA CLAUDINO    150000633249                    2    \n",
       "2     PB    19666    JOCA CLAUDINO    150000633250                    1    \n",
       "3     PB    19666    JOCA CLAUDINO    150000633250                    2    \n",
       "4     PB    21075    NOVA PALMEIRA    150000633290                    1    \n",
       "\n",
       "   CD_TIPO_BEM_CANDIDATO                              DS_TIPO_BEM_CANDIDATO   \\\n",
       "0                     24    Bem relacionado com o exercício da atividade ...   \n",
       "1                     63               Dinheiro em espécie - moeda nacional    \n",
       "2                     63               Dinheiro em espécie - moeda nacional    \n",
       "3                     63               Dinheiro em espécie - moeda nacional    \n",
       "4                     11                                        Apartamento    \n",
       "\n",
       "                                   DS_BEM_CANDIDATO   VR_BEM_CANDIDATO   \\\n",
       "0   TITULAR PROL EQUIPAMENTOS LOGISTICOS EIRELI C...         200000,00    \n",
       "1   RENDIMENTOS TRIBUTÁRIOS RECEBIDOS DE PESSOA F...          28500,00    \n",
       "2   Rendimentos Tributários Recebidos de Pessoa J...           2060,64    \n",
       "3   Rendimentos Tributário Recebidos de Pessoa Ju...           7065,74    \n",
       "4   Apartamento localizado na Rua Espírito Santo,...          90000,00    \n",
       "\n",
       "   DT_ULTIMA_ATUALIZACAO   HH_ULTIMA_ATUALIZACAO    \n",
       "0             17/10/2020                18:52:47    \n",
       "1             17/10/2020                18:52:47    \n",
       "2             17/10/2020                17:56:20    \n",
       "3             17/10/2020                17:56:20    \n",
       "4             01/10/2020                17:44:03    "
      ]
     },
     "execution_count": 89,
     "metadata": {},
     "output_type": "execute_result"
    }
   ],
   "source": [
    "df_pb.head()"
   ]
  },
  {
   "cell_type": "code",
   "execution_count": 82,
   "metadata": {
    "ExecuteTime": {
     "end_time": "2020-10-20T16:09:17.346573Z",
     "start_time": "2020-10-20T16:09:17.335570Z"
    }
   },
   "outputs": [],
   "source": [
    "df_lista = pd.read_csv('Lista-Candidatos-Vereador-JOÃO PESSOA-2020.csv',delimiter =';')"
   ]
  },
  {
   "cell_type": "code",
   "execution_count": 83,
   "metadata": {
    "ExecuteTime": {
     "end_time": "2020-10-20T16:09:17.865284Z",
     "start_time": "2020-10-20T16:09:17.856250Z"
    }
   },
   "outputs": [
    {
     "data": {
      "text/html": [
       "<div>\n",
       "<style scoped>\n",
       "    .dataframe tbody tr th:only-of-type {\n",
       "        vertical-align: middle;\n",
       "    }\n",
       "\n",
       "    .dataframe tbody tr th {\n",
       "        vertical-align: top;\n",
       "    }\n",
       "\n",
       "    .dataframe thead th {\n",
       "        text-align: right;\n",
       "    }\n",
       "</style>\n",
       "<table border=\"1\" class=\"dataframe\">\n",
       "  <thead>\n",
       "    <tr style=\"text-align: right;\">\n",
       "      <th></th>\n",
       "      <th>Nome Completo</th>\n",
       "      <th>Nome Urna</th>\n",
       "      <th>Cargo</th>\n",
       "      <th>Número</th>\n",
       "      <th>Partido</th>\n",
       "      <th>Coligação</th>\n",
       "      <th>Situação</th>\n",
       "      <th>Situação Pós-Pleito</th>\n",
       "    </tr>\n",
       "  </thead>\n",
       "  <tbody>\n",
       "    <tr>\n",
       "      <th>0</th>\n",
       "      <td>ABRAÃO CAVALCANTI DE LACERDA</td>\n",
       "      <td>ABRAÃO CAVALCANTI</td>\n",
       "      <td>Vereador</td>\n",
       "      <td>35123</td>\n",
       "      <td>PMB</td>\n",
       "      <td>PMB</td>\n",
       "      <td>Aguardando julgamento</td>\n",
       "      <td>Concorrendo</td>\n",
       "    </tr>\n",
       "    <tr>\n",
       "      <th>1</th>\n",
       "      <td>ADAILTON IZIDRO SANTOS DA SILVA</td>\n",
       "      <td>ADAILTON IRMÃO DOS PNEUS</td>\n",
       "      <td>Vereador</td>\n",
       "      <td>20123</td>\n",
       "      <td>PSC</td>\n",
       "      <td>PSC</td>\n",
       "      <td>Aguardando julgamento</td>\n",
       "      <td>Concorrendo</td>\n",
       "    </tr>\n",
       "    <tr>\n",
       "      <th>2</th>\n",
       "      <td>ADEILDE TRIGUEIRO DE ARAÚJO</td>\n",
       "      <td>ADEILDE TRIGUEIRO</td>\n",
       "      <td>Vereador</td>\n",
       "      <td>22077</td>\n",
       "      <td>PL</td>\n",
       "      <td>PL</td>\n",
       "      <td>Aguardando julgamento</td>\n",
       "      <td>Concorrendo</td>\n",
       "    </tr>\n",
       "    <tr>\n",
       "      <th>3</th>\n",
       "      <td>ADEILZA DE FARIAS MOREIRA</td>\n",
       "      <td>ADEILZA</td>\n",
       "      <td>Vereador</td>\n",
       "      <td>22111</td>\n",
       "      <td>PL</td>\n",
       "      <td>PL</td>\n",
       "      <td>Aguardando julgamento</td>\n",
       "      <td>Concorrendo</td>\n",
       "    </tr>\n",
       "    <tr>\n",
       "      <th>4</th>\n",
       "      <td>ADEMIR DE LUCENA</td>\n",
       "      <td>ADEMIR DE LUCENA</td>\n",
       "      <td>Vereador</td>\n",
       "      <td>77001</td>\n",
       "      <td>SOLIDARIEDADE</td>\n",
       "      <td>SOLIDARIEDADE</td>\n",
       "      <td>Deferido</td>\n",
       "      <td>Concorrendo</td>\n",
       "    </tr>\n",
       "  </tbody>\n",
       "</table>\n",
       "</div>"
      ],
      "text/plain": [
       "                     Nome Completo                 Nome Urna     Cargo  \\\n",
       "0     ABRAÃO CAVALCANTI DE LACERDA         ABRAÃO CAVALCANTI  Vereador   \n",
       "1  ADAILTON IZIDRO SANTOS DA SILVA  ADAILTON IRMÃO DOS PNEUS  Vereador   \n",
       "2      ADEILDE TRIGUEIRO DE ARAÚJO         ADEILDE TRIGUEIRO  Vereador   \n",
       "3        ADEILZA DE FARIAS MOREIRA                   ADEILZA  Vereador   \n",
       "4                 ADEMIR DE LUCENA          ADEMIR DE LUCENA  Vereador   \n",
       "\n",
       "   Número        Partido      Coligação               Situação  \\\n",
       "0   35123            PMB            PMB  Aguardando julgamento   \n",
       "1   20123            PSC            PSC  Aguardando julgamento   \n",
       "2   22077             PL             PL  Aguardando julgamento   \n",
       "3   22111             PL             PL  Aguardando julgamento   \n",
       "4   77001  SOLIDARIEDADE  SOLIDARIEDADE               Deferido   \n",
       "\n",
       "  Situação Pós-Pleito  \n",
       "0         Concorrendo  \n",
       "1         Concorrendo  \n",
       "2         Concorrendo  \n",
       "3         Concorrendo  \n",
       "4         Concorrendo  "
      ]
     },
     "execution_count": 83,
     "metadata": {},
     "output_type": "execute_result"
    }
   ],
   "source": [
    "df_lista.head()"
   ]
  },
  {
   "cell_type": "code",
   "execution_count": null,
   "metadata": {},
   "outputs": [],
   "source": []
  }
 ],
 "metadata": {
  "hide_input": false,
  "kernelspec": {
   "display_name": "Python 3",
   "language": "python",
   "name": "python3"
  },
  "language_info": {
   "codemirror_mode": {
    "name": "ipython",
    "version": 3
   },
   "file_extension": ".py",
   "mimetype": "text/x-python",
   "name": "python",
   "nbconvert_exporter": "python",
   "pygments_lexer": "ipython3",
   "version": "3.7.3"
  },
  "toc": {
   "base_numbering": 1,
   "nav_menu": {},
   "number_sections": true,
   "sideBar": true,
   "skip_h1_title": false,
   "title_cell": "Table of Contents",
   "title_sidebar": "Contents",
   "toc_cell": false,
   "toc_position": {},
   "toc_section_display": true,
   "toc_window_display": true
  }
 },
 "nbformat": 4,
 "nbformat_minor": 2
}
