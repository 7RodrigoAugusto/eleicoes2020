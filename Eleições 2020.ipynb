{
 "cells": [
  {
   "cell_type": "code",
   "execution_count": 1,
   "metadata": {
    "ExecuteTime": {
     "end_time": "2020-10-27T11:25:14.536593Z",
     "start_time": "2020-10-27T11:25:14.040541Z"
    }
   },
   "outputs": [],
   "source": [
    "import pandas as pd\n",
    "import re\n",
    "pd.set_option('display.max_columns', None)"
   ]
  },
  {
   "cell_type": "markdown",
   "metadata": {},
   "source": [
    "# Funções"
   ]
  },
  {
   "cell_type": "code",
   "execution_count": 113,
   "metadata": {
    "ExecuteTime": {
     "end_time": "2020-10-27T12:21:15.918681Z",
     "start_time": "2020-10-27T12:21:15.915680Z"
    }
   },
   "outputs": [],
   "source": [
    "def transform_float(x):\n",
    "    if x != None:\n",
    "        try:\n",
    "            return float(x)\n",
    "        except:\n",
    "            x = x.strip(' ')\n",
    "            x = re.sub(r',', '.', x)\n",
    "            return float(x)\n",
    "    else:\n",
    "        return 0 "
   ]
  },
  {
   "cell_type": "markdown",
   "metadata": {},
   "source": [
    "# Bens de Candidatos"
   ]
  },
  {
   "cell_type": "code",
   "execution_count": null,
   "metadata": {},
   "outputs": [],
   "source": [
    "f = open(\"bem_candidato_2020/bem_PB_txt\", \"r\", encoding=\"utf8\")\n",
    "texto = f.readlines()\n",
    "lst_aux = [re.sub(r'\\n',' ',re.sub(r'\"', ' ', element)).split(';') for element in texto]\n",
    "df_pb = pd.DataFrame(lst_aux[1:], columns = lst_aux[0]) \n",
    "#df_pb = pd.read_csv('bem_candidato_2020/bem_candidato_2020_PB.csv',error_bad_lines=False, encoding='latin-1',delimiter =';')"
   ]
  },
  {
   "cell_type": "code",
   "execution_count": 42,
   "metadata": {
    "ExecuteTime": {
     "end_time": "2020-10-27T12:00:25.333309Z",
     "start_time": "2020-10-27T12:00:25.312309Z"
    }
   },
   "outputs": [
    {
     "data": {
      "text/html": [
       "<div>\n",
       "<style scoped>\n",
       "    .dataframe tbody tr th:only-of-type {\n",
       "        vertical-align: middle;\n",
       "    }\n",
       "\n",
       "    .dataframe tbody tr th {\n",
       "        vertical-align: top;\n",
       "    }\n",
       "\n",
       "    .dataframe thead th {\n",
       "        text-align: right;\n",
       "    }\n",
       "</style>\n",
       "<table border=\"1\" class=\"dataframe\">\n",
       "  <thead>\n",
       "    <tr style=\"text-align: right;\">\n",
       "      <th></th>\n",
       "      <th>DT_GERACAO</th>\n",
       "      <th>HH_GERACAO</th>\n",
       "      <th>ANO_ELEICAO</th>\n",
       "      <th>CD_TIPO_ELEICAO</th>\n",
       "      <th>NM_TIPO_ELEICAO</th>\n",
       "      <th>CD_ELEICAO</th>\n",
       "      <th>DS_ELEICAO</th>\n",
       "      <th>DT_ELEICAO</th>\n",
       "      <th>SG_UF</th>\n",
       "      <th>SG_UE</th>\n",
       "      <th>NM_UE</th>\n",
       "      <th>SQ_CANDIDATO</th>\n",
       "      <th>NR_ORDEM_CANDIDATO</th>\n",
       "      <th>CD_TIPO_BEM_CANDIDATO</th>\n",
       "      <th>DS_TIPO_BEM_CANDIDATO</th>\n",
       "      <th>DS_BEM_CANDIDATO</th>\n",
       "      <th>VR_BEM_CANDIDATO</th>\n",
       "      <th>DT_ULTIMA_ATUALIZACAO</th>\n",
       "      <th>HH_ULTIMA_ATUALIZACAO</th>\n",
       "    </tr>\n",
       "  </thead>\n",
       "  <tbody>\n",
       "    <tr>\n",
       "      <th>0</th>\n",
       "      <td>20/10/2020</td>\n",
       "      <td>07:06:40</td>\n",
       "      <td>2020</td>\n",
       "      <td>2</td>\n",
       "      <td>Eleição Ordinária</td>\n",
       "      <td>426</td>\n",
       "      <td>Eleições Municipais 2020</td>\n",
       "      <td>15/11/2020</td>\n",
       "      <td>PB</td>\n",
       "      <td>19666</td>\n",
       "      <td>JOCA CLAUDINO</td>\n",
       "      <td>150000633249</td>\n",
       "      <td>1</td>\n",
       "      <td>24</td>\n",
       "      <td>Bem relacionado com o exercício da atividade ...</td>\n",
       "      <td>TITULAR PROL EQUIPAMENTOS LOGISTICOS EIRELI C...</td>\n",
       "      <td>200000,00</td>\n",
       "      <td>17/10/2020</td>\n",
       "      <td>18:52:47</td>\n",
       "    </tr>\n",
       "    <tr>\n",
       "      <th>1</th>\n",
       "      <td>20/10/2020</td>\n",
       "      <td>07:06:40</td>\n",
       "      <td>2020</td>\n",
       "      <td>2</td>\n",
       "      <td>Eleição Ordinária</td>\n",
       "      <td>426</td>\n",
       "      <td>Eleições Municipais 2020</td>\n",
       "      <td>15/11/2020</td>\n",
       "      <td>PB</td>\n",
       "      <td>19666</td>\n",
       "      <td>JOCA CLAUDINO</td>\n",
       "      <td>150000633249</td>\n",
       "      <td>2</td>\n",
       "      <td>63</td>\n",
       "      <td>Dinheiro em espécie - moeda nacional</td>\n",
       "      <td>RENDIMENTOS TRIBUTÁRIOS RECEBIDOS DE PESSOA F...</td>\n",
       "      <td>28500,00</td>\n",
       "      <td>17/10/2020</td>\n",
       "      <td>18:52:47</td>\n",
       "    </tr>\n",
       "    <tr>\n",
       "      <th>2</th>\n",
       "      <td>20/10/2020</td>\n",
       "      <td>07:06:40</td>\n",
       "      <td>2020</td>\n",
       "      <td>2</td>\n",
       "      <td>Eleição Ordinária</td>\n",
       "      <td>426</td>\n",
       "      <td>Eleições Municipais 2020</td>\n",
       "      <td>15/11/2020</td>\n",
       "      <td>PB</td>\n",
       "      <td>19666</td>\n",
       "      <td>JOCA CLAUDINO</td>\n",
       "      <td>150000633250</td>\n",
       "      <td>1</td>\n",
       "      <td>63</td>\n",
       "      <td>Dinheiro em espécie - moeda nacional</td>\n",
       "      <td>Rendimentos Tributários Recebidos de Pessoa J...</td>\n",
       "      <td>2060,64</td>\n",
       "      <td>17/10/2020</td>\n",
       "      <td>17:56:20</td>\n",
       "    </tr>\n",
       "    <tr>\n",
       "      <th>3</th>\n",
       "      <td>20/10/2020</td>\n",
       "      <td>07:06:40</td>\n",
       "      <td>2020</td>\n",
       "      <td>2</td>\n",
       "      <td>Eleição Ordinária</td>\n",
       "      <td>426</td>\n",
       "      <td>Eleições Municipais 2020</td>\n",
       "      <td>15/11/2020</td>\n",
       "      <td>PB</td>\n",
       "      <td>19666</td>\n",
       "      <td>JOCA CLAUDINO</td>\n",
       "      <td>150000633250</td>\n",
       "      <td>2</td>\n",
       "      <td>63</td>\n",
       "      <td>Dinheiro em espécie - moeda nacional</td>\n",
       "      <td>Rendimentos Tributário Recebidos de Pessoa Ju...</td>\n",
       "      <td>7065,74</td>\n",
       "      <td>17/10/2020</td>\n",
       "      <td>17:56:20</td>\n",
       "    </tr>\n",
       "    <tr>\n",
       "      <th>4</th>\n",
       "      <td>20/10/2020</td>\n",
       "      <td>07:06:40</td>\n",
       "      <td>2020</td>\n",
       "      <td>2</td>\n",
       "      <td>Eleição Ordinária</td>\n",
       "      <td>426</td>\n",
       "      <td>Eleições Municipais 2020</td>\n",
       "      <td>15/11/2020</td>\n",
       "      <td>PB</td>\n",
       "      <td>21075</td>\n",
       "      <td>NOVA PALMEIRA</td>\n",
       "      <td>150000633290</td>\n",
       "      <td>1</td>\n",
       "      <td>11</td>\n",
       "      <td>Apartamento</td>\n",
       "      <td>Apartamento localizado na Rua Espírito Santo,...</td>\n",
       "      <td>90000,00</td>\n",
       "      <td>01/10/2020</td>\n",
       "      <td>17:44:03</td>\n",
       "    </tr>\n",
       "  </tbody>\n",
       "</table>\n",
       "</div>"
      ],
      "text/plain": [
       "    DT_GERACAO   HH_GERACAO   ANO_ELEICAO   CD_TIPO_ELEICAO   \\\n",
       "0   20/10/2020     07:06:40          2020                 2    \n",
       "1   20/10/2020     07:06:40          2020                 2    \n",
       "2   20/10/2020     07:06:40          2020                 2    \n",
       "3   20/10/2020     07:06:40          2020                 2    \n",
       "4   20/10/2020     07:06:40          2020                 2    \n",
       "\n",
       "      NM_TIPO_ELEICAO   CD_ELEICAO                  DS_ELEICAO    DT_ELEICAO   \\\n",
       "0   Eleição Ordinária          426    Eleições Municipais 2020    15/11/2020    \n",
       "1   Eleição Ordinária          426    Eleições Municipais 2020    15/11/2020    \n",
       "2   Eleição Ordinária          426    Eleições Municipais 2020    15/11/2020    \n",
       "3   Eleição Ordinária          426    Eleições Municipais 2020    15/11/2020    \n",
       "4   Eleição Ordinária          426    Eleições Municipais 2020    15/11/2020    \n",
       "\n",
       "   SG_UF    SG_UE            NM_UE    SQ_CANDIDATO   NR_ORDEM_CANDIDATO   \\\n",
       "0     PB    19666    JOCA CLAUDINO    150000633249                    1    \n",
       "1     PB    19666    JOCA CLAUDINO    150000633249                    2    \n",
       "2     PB    19666    JOCA CLAUDINO    150000633250                    1    \n",
       "3     PB    19666    JOCA CLAUDINO    150000633250                    2    \n",
       "4     PB    21075    NOVA PALMEIRA    150000633290                    1    \n",
       "\n",
       "   CD_TIPO_BEM_CANDIDATO                              DS_TIPO_BEM_CANDIDATO   \\\n",
       "0                     24    Bem relacionado com o exercício da atividade ...   \n",
       "1                     63               Dinheiro em espécie - moeda nacional    \n",
       "2                     63               Dinheiro em espécie - moeda nacional    \n",
       "3                     63               Dinheiro em espécie - moeda nacional    \n",
       "4                     11                                        Apartamento    \n",
       "\n",
       "                                   DS_BEM_CANDIDATO   VR_BEM_CANDIDATO   \\\n",
       "0   TITULAR PROL EQUIPAMENTOS LOGISTICOS EIRELI C...         200000,00    \n",
       "1   RENDIMENTOS TRIBUTÁRIOS RECEBIDOS DE PESSOA F...          28500,00    \n",
       "2   Rendimentos Tributários Recebidos de Pessoa J...           2060,64    \n",
       "3   Rendimentos Tributário Recebidos de Pessoa Ju...           7065,74    \n",
       "4   Apartamento localizado na Rua Espírito Santo,...          90000,00    \n",
       "\n",
       "   DT_ULTIMA_ATUALIZACAO   HH_ULTIMA_ATUALIZACAO    \n",
       "0             17/10/2020                18:52:47    \n",
       "1             17/10/2020                18:52:47    \n",
       "2             17/10/2020                17:56:20    \n",
       "3             17/10/2020                17:56:20    \n",
       "4             01/10/2020                17:44:03    "
      ]
     },
     "execution_count": 42,
     "metadata": {},
     "output_type": "execute_result"
    }
   ],
   "source": [
    "df_pb.head()"
   ]
  },
  {
   "cell_type": "code",
   "execution_count": 65,
   "metadata": {
    "ExecuteTime": {
     "end_time": "2020-10-27T12:11:03.647251Z",
     "start_time": "2020-10-27T12:11:03.589239Z"
    }
   },
   "outputs": [],
   "source": [
    "# - Altera tipo da coluna VR_BEM_CANDIDATO\n",
    "df_pb[' VR_BEM_CANDIDATO '] = df_pb[' VR_BEM_CANDIDATO '].apply(lambda x: transform_float(x))"
   ]
  },
  {
   "cell_type": "code",
   "execution_count": 46,
   "metadata": {
    "ExecuteTime": {
     "end_time": "2020-10-27T12:04:14.240630Z",
     "start_time": "2020-10-27T12:04:13.663135Z"
    }
   },
   "outputs": [],
   "source": [
    "# - Cria lista de bens por candidato\n",
    "df_bens = df_pb.groupby(' SQ_CANDIDATO ')[' DS_TIPO_BEM_CANDIDATO '].apply(list)"
   ]
  },
  {
   "cell_type": "code",
   "execution_count": 77,
   "metadata": {
    "ExecuteTime": {
     "end_time": "2020-10-27T12:14:11.914102Z",
     "start_time": "2020-10-27T12:14:11.885075Z"
    }
   },
   "outputs": [],
   "source": [
    "# - Soma valor em bens por candidato\n",
    "df_bens_vlr = df_pb.groupby(' SQ_CANDIDATO ').agg({' VR_BEM_CANDIDATO ': ['sum']}).reset_index()\n",
    "df_bens_vlr.columns = ['SQ_CANDIDATO','SUM_VR_BEM_CANDIDATO']"
   ]
  },
  {
   "cell_type": "code",
   "execution_count": 104,
   "metadata": {
    "ExecuteTime": {
     "end_time": "2020-10-27T12:18:56.713693Z",
     "start_time": "2020-10-27T12:18:56.707691Z"
    }
   },
   "outputs": [],
   "source": [
    "# - Altera tipo da coluna SQ_CANDIDATO para posterior merge\n",
    "df_bens_vlr['SQ_CANDIDATO'] = df_bens_vlr['SQ_CANDIDATO'].astype('int64')"
   ]
  },
  {
   "cell_type": "markdown",
   "metadata": {},
   "source": [
    "# Lista de Candidatos"
   ]
  },
  {
   "cell_type": "code",
   "execution_count": 101,
   "metadata": {
    "ExecuteTime": {
     "end_time": "2020-10-27T12:18:16.983598Z",
     "start_time": "2020-10-27T12:18:16.835591Z"
    }
   },
   "outputs": [],
   "source": [
    "df_lista = pd.read_csv('consulta_cand_2020/consulta_cand_2020_PB.csv',delimiter =';', encoding='latin-1')"
   ]
  },
  {
   "cell_type": "code",
   "execution_count": 106,
   "metadata": {
    "ExecuteTime": {
     "end_time": "2020-10-27T12:19:06.180576Z",
     "start_time": "2020-10-27T12:19:06.172576Z"
    }
   },
   "outputs": [],
   "source": [
    "df_lista = df_lista[df_lista['NM_UE'] == 'JOÃO PESSOA']\n",
    "#df_lista[(df_lista['NR_PARTIDO'] == 50) & (df_lista['NM_CANDIDATO'].str.contains('T'))]['NM_CANDIDATO'].tail()"
   ]
  },
  {
   "cell_type": "code",
   "execution_count": 107,
   "metadata": {
    "ExecuteTime": {
     "end_time": "2020-10-27T12:19:06.529347Z",
     "start_time": "2020-10-27T12:19:06.493310Z"
    }
   },
   "outputs": [
    {
     "data": {
      "text/html": [
       "<div>\n",
       "<style scoped>\n",
       "    .dataframe tbody tr th:only-of-type {\n",
       "        vertical-align: middle;\n",
       "    }\n",
       "\n",
       "    .dataframe tbody tr th {\n",
       "        vertical-align: top;\n",
       "    }\n",
       "\n",
       "    .dataframe thead th {\n",
       "        text-align: right;\n",
       "    }\n",
       "</style>\n",
       "<table border=\"1\" class=\"dataframe\">\n",
       "  <thead>\n",
       "    <tr style=\"text-align: right;\">\n",
       "      <th></th>\n",
       "      <th>DT_GERACAO</th>\n",
       "      <th>HH_GERACAO</th>\n",
       "      <th>ANO_ELEICAO</th>\n",
       "      <th>CD_TIPO_ELEICAO</th>\n",
       "      <th>NM_TIPO_ELEICAO</th>\n",
       "      <th>NR_TURNO</th>\n",
       "      <th>CD_ELEICAO</th>\n",
       "      <th>DS_ELEICAO</th>\n",
       "      <th>DT_ELEICAO</th>\n",
       "      <th>TP_ABRANGENCIA</th>\n",
       "      <th>SG_UF</th>\n",
       "      <th>SG_UE</th>\n",
       "      <th>NM_UE</th>\n",
       "      <th>CD_CARGO</th>\n",
       "      <th>DS_CARGO</th>\n",
       "      <th>SQ_CANDIDATO</th>\n",
       "      <th>NR_CANDIDATO</th>\n",
       "      <th>NM_CANDIDATO</th>\n",
       "      <th>NM_URNA_CANDIDATO</th>\n",
       "      <th>NM_SOCIAL_CANDIDATO</th>\n",
       "      <th>NR_CPF_CANDIDATO</th>\n",
       "      <th>NM_EMAIL</th>\n",
       "      <th>CD_SITUACAO_CANDIDATURA</th>\n",
       "      <th>DS_SITUACAO_CANDIDATURA</th>\n",
       "      <th>CD_DETALHE_SITUACAO_CAND</th>\n",
       "      <th>DS_DETALHE_SITUACAO_CAND</th>\n",
       "      <th>TP_AGREMIACAO</th>\n",
       "      <th>NR_PARTIDO</th>\n",
       "      <th>SG_PARTIDO</th>\n",
       "      <th>NM_PARTIDO</th>\n",
       "      <th>SQ_COLIGACAO</th>\n",
       "      <th>NM_COLIGACAO</th>\n",
       "      <th>DS_COMPOSICAO_COLIGACAO</th>\n",
       "      <th>CD_NACIONALIDADE</th>\n",
       "      <th>DS_NACIONALIDADE</th>\n",
       "      <th>SG_UF_NASCIMENTO</th>\n",
       "      <th>CD_MUNICIPIO_NASCIMENTO</th>\n",
       "      <th>NM_MUNICIPIO_NASCIMENTO</th>\n",
       "      <th>DT_NASCIMENTO</th>\n",
       "      <th>NR_IDADE_DATA_POSSE</th>\n",
       "      <th>NR_TITULO_ELEITORAL_CANDIDATO</th>\n",
       "      <th>CD_GENERO</th>\n",
       "      <th>DS_GENERO</th>\n",
       "      <th>CD_GRAU_INSTRUCAO</th>\n",
       "      <th>DS_GRAU_INSTRUCAO</th>\n",
       "      <th>CD_ESTADO_CIVIL</th>\n",
       "      <th>DS_ESTADO_CIVIL</th>\n",
       "      <th>CD_COR_RACA</th>\n",
       "      <th>DS_COR_RACA</th>\n",
       "      <th>CD_OCUPACAO</th>\n",
       "      <th>DS_OCUPACAO</th>\n",
       "      <th>VR_DESPESA_MAX_CAMPANHA</th>\n",
       "      <th>CD_SIT_TOT_TURNO</th>\n",
       "      <th>DS_SIT_TOT_TURNO</th>\n",
       "      <th>ST_REELEICAO</th>\n",
       "      <th>ST_DECLARAR_BENS</th>\n",
       "      <th>NR_PROTOCOLO_CANDIDATURA</th>\n",
       "      <th>NR_PROCESSO</th>\n",
       "      <th>CD_SITUACAO_CANDIDATO_PLEITO</th>\n",
       "      <th>DS_SITUACAO_CANDIDATO_PLEITO</th>\n",
       "      <th>CD_SITUACAO_CANDIDATO_URNA</th>\n",
       "      <th>DS_SITUACAO_CANDIDATO_URNA</th>\n",
       "      <th>ST_CANDIDATO_INSERIDO_URNA</th>\n",
       "    </tr>\n",
       "  </thead>\n",
       "  <tbody>\n",
       "    <tr>\n",
       "      <th>39</th>\n",
       "      <td>20/10/2020</td>\n",
       "      <td>12:07:05</td>\n",
       "      <td>2020</td>\n",
       "      <td>2</td>\n",
       "      <td>ELEIÇÃO ORDINÁRIA</td>\n",
       "      <td>1</td>\n",
       "      <td>426</td>\n",
       "      <td>Eleições Municipais 2020</td>\n",
       "      <td>15/11/2020</td>\n",
       "      <td>MUNICIPAL</td>\n",
       "      <td>PB</td>\n",
       "      <td>20516</td>\n",
       "      <td>JOÃO PESSOA</td>\n",
       "      <td>13</td>\n",
       "      <td>VEREADOR</td>\n",
       "      <td>150000649797</td>\n",
       "      <td>50133</td>\n",
       "      <td>JÚLIO CÉSAR FERREIRA DA SILVA</td>\n",
       "      <td>JÚLIO</td>\n",
       "      <td>#NULO#</td>\n",
       "      <td>89530136404</td>\n",
       "      <td>PSOLJPELEICOES2020@GMAIL.COM</td>\n",
       "      <td>12</td>\n",
       "      <td>APTO</td>\n",
       "      <td>2</td>\n",
       "      <td>DEFERIDO</td>\n",
       "      <td>PARTIDO ISOLADO</td>\n",
       "      <td>50</td>\n",
       "      <td>PSOL</td>\n",
       "      <td>PARTIDO SOCIALISMO E LIBERDADE</td>\n",
       "      <td>150000057746</td>\n",
       "      <td>PARTIDO ISOLADO</td>\n",
       "      <td>PSOL</td>\n",
       "      <td>1</td>\n",
       "      <td>BRASILEIRA NATA</td>\n",
       "      <td>PE</td>\n",
       "      <td>-3</td>\n",
       "      <td>RECIFE</td>\n",
       "      <td>03/03/1973</td>\n",
       "      <td>47</td>\n",
       "      <td>39610400833</td>\n",
       "      <td>2</td>\n",
       "      <td>MASCULINO</td>\n",
       "      <td>5</td>\n",
       "      <td>ENSINO MÉDIO INCOMPLETO</td>\n",
       "      <td>1</td>\n",
       "      <td>SOLTEIRO(A)</td>\n",
       "      <td>2</td>\n",
       "      <td>PRETA</td>\n",
       "      <td>999</td>\n",
       "      <td>OUTROS</td>\n",
       "      <td>311996</td>\n",
       "      <td>-1</td>\n",
       "      <td>#NULO#</td>\n",
       "      <td>N</td>\n",
       "      <td>S</td>\n",
       "      <td>-1</td>\n",
       "      <td>6001050620206150064</td>\n",
       "      <td>-1</td>\n",
       "      <td>#NULO#</td>\n",
       "      <td>-1</td>\n",
       "      <td>#NULO#</td>\n",
       "      <td>SIM</td>\n",
       "    </tr>\n",
       "    <tr>\n",
       "      <th>44</th>\n",
       "      <td>20/10/2020</td>\n",
       "      <td>12:07:05</td>\n",
       "      <td>2020</td>\n",
       "      <td>2</td>\n",
       "      <td>ELEIÇÃO ORDINÁRIA</td>\n",
       "      <td>1</td>\n",
       "      <td>426</td>\n",
       "      <td>Eleições Municipais 2020</td>\n",
       "      <td>15/11/2020</td>\n",
       "      <td>MUNICIPAL</td>\n",
       "      <td>PB</td>\n",
       "      <td>20516</td>\n",
       "      <td>JOÃO PESSOA</td>\n",
       "      <td>13</td>\n",
       "      <td>VEREADOR</td>\n",
       "      <td>150000979704</td>\n",
       "      <td>80180</td>\n",
       "      <td>VITÓRIA OHARA MEIRELES DIAS</td>\n",
       "      <td>VITÓRIA OHARA</td>\n",
       "      <td>#NULO#</td>\n",
       "      <td>10439162459</td>\n",
       "      <td>CONTATO.VITORIAOHARA@GMAIL.COM</td>\n",
       "      <td>1</td>\n",
       "      <td>CADASTRADO</td>\n",
       "      <td>8</td>\n",
       "      <td>AGUARDANDO JULGAMENTO</td>\n",
       "      <td>PARTIDO ISOLADO</td>\n",
       "      <td>80</td>\n",
       "      <td>UP</td>\n",
       "      <td>UNIDADE POPULAR</td>\n",
       "      <td>150000114379</td>\n",
       "      <td>PARTIDO ISOLADO</td>\n",
       "      <td>UP</td>\n",
       "      <td>1</td>\n",
       "      <td>BRASILEIRA NATA</td>\n",
       "      <td>PE</td>\n",
       "      <td>-3</td>\n",
       "      <td>GOIANA</td>\n",
       "      <td>23/03/2000</td>\n",
       "      <td>20</td>\n",
       "      <td>46139061201</td>\n",
       "      <td>4</td>\n",
       "      <td>FEMININO</td>\n",
       "      <td>6</td>\n",
       "      <td>ENSINO MÉDIO COMPLETO</td>\n",
       "      <td>1</td>\n",
       "      <td>SOLTEIRO(A)</td>\n",
       "      <td>3</td>\n",
       "      <td>PARDA</td>\n",
       "      <td>931</td>\n",
       "      <td>ESTUDANTE, BOLSISTA, ESTAGIÁRIO E ASSEMELHADOS</td>\n",
       "      <td>311996</td>\n",
       "      <td>-1</td>\n",
       "      <td>#NULO#</td>\n",
       "      <td>N</td>\n",
       "      <td>S</td>\n",
       "      <td>-1</td>\n",
       "      <td>6005277820206150064</td>\n",
       "      <td>-1</td>\n",
       "      <td>#NULO#</td>\n",
       "      <td>-1</td>\n",
       "      <td>#NULO#</td>\n",
       "      <td>NÃO</td>\n",
       "    </tr>\n",
       "    <tr>\n",
       "      <th>49</th>\n",
       "      <td>20/10/2020</td>\n",
       "      <td>12:07:05</td>\n",
       "      <td>2020</td>\n",
       "      <td>2</td>\n",
       "      <td>ELEIÇÃO ORDINÁRIA</td>\n",
       "      <td>1</td>\n",
       "      <td>426</td>\n",
       "      <td>Eleições Municipais 2020</td>\n",
       "      <td>15/11/2020</td>\n",
       "      <td>MUNICIPAL</td>\n",
       "      <td>PB</td>\n",
       "      <td>20516</td>\n",
       "      <td>JOÃO PESSOA</td>\n",
       "      <td>13</td>\n",
       "      <td>VEREADOR</td>\n",
       "      <td>150001007308</td>\n",
       "      <td>12377</td>\n",
       "      <td>GILVANDRO SOARES DA SILVA</td>\n",
       "      <td>GILVANDRO SILVA</td>\n",
       "      <td>#NULO#</td>\n",
       "      <td>4081085412</td>\n",
       "      <td>GILVANDROVASO@GMAIL.COM</td>\n",
       "      <td>1</td>\n",
       "      <td>CADASTRADO</td>\n",
       "      <td>8</td>\n",
       "      <td>AGUARDANDO JULGAMENTO</td>\n",
       "      <td>PARTIDO ISOLADO</td>\n",
       "      <td>12</td>\n",
       "      <td>PDT</td>\n",
       "      <td>PARTIDO DEMOCRÁTICO TRABALHISTA</td>\n",
       "      <td>150000118455</td>\n",
       "      <td>PARTIDO ISOLADO</td>\n",
       "      <td>PDT</td>\n",
       "      <td>1</td>\n",
       "      <td>BRASILEIRA NATA</td>\n",
       "      <td>PB</td>\n",
       "      <td>-3</td>\n",
       "      <td>JOÃO PESSOA</td>\n",
       "      <td>15/07/1979</td>\n",
       "      <td>41</td>\n",
       "      <td>27052241295</td>\n",
       "      <td>2</td>\n",
       "      <td>MASCULINO</td>\n",
       "      <td>6</td>\n",
       "      <td>ENSINO MÉDIO COMPLETO</td>\n",
       "      <td>1</td>\n",
       "      <td>SOLTEIRO(A)</td>\n",
       "      <td>3</td>\n",
       "      <td>PARDA</td>\n",
       "      <td>999</td>\n",
       "      <td>OUTROS</td>\n",
       "      <td>311996</td>\n",
       "      <td>-1</td>\n",
       "      <td>#NULO#</td>\n",
       "      <td>N</td>\n",
       "      <td>S</td>\n",
       "      <td>-1</td>\n",
       "      <td>6005736720206150064</td>\n",
       "      <td>-1</td>\n",
       "      <td>#NULO#</td>\n",
       "      <td>-1</td>\n",
       "      <td>#NULO#</td>\n",
       "      <td>NÃO</td>\n",
       "    </tr>\n",
       "    <tr>\n",
       "      <th>53</th>\n",
       "      <td>20/10/2020</td>\n",
       "      <td>12:07:05</td>\n",
       "      <td>2020</td>\n",
       "      <td>2</td>\n",
       "      <td>ELEIÇÃO ORDINÁRIA</td>\n",
       "      <td>1</td>\n",
       "      <td>426</td>\n",
       "      <td>Eleições Municipais 2020</td>\n",
       "      <td>15/11/2020</td>\n",
       "      <td>MUNICIPAL</td>\n",
       "      <td>PB</td>\n",
       "      <td>20516</td>\n",
       "      <td>JOÃO PESSOA</td>\n",
       "      <td>13</td>\n",
       "      <td>VEREADOR</td>\n",
       "      <td>150000817586</td>\n",
       "      <td>51800</td>\n",
       "      <td>ANDRÉ LUÍS DOS SANTOS SILVA</td>\n",
       "      <td>ANDRE LUIS</td>\n",
       "      <td>#NULO#</td>\n",
       "      <td>51843188449</td>\n",
       "      <td>ANDRELUIS51@GMAIL.COM</td>\n",
       "      <td>12</td>\n",
       "      <td>APTO</td>\n",
       "      <td>2</td>\n",
       "      <td>DEFERIDO</td>\n",
       "      <td>PARTIDO ISOLADO</td>\n",
       "      <td>51</td>\n",
       "      <td>PATRIOTA</td>\n",
       "      <td>PATRIOTA</td>\n",
       "      <td>150000085198</td>\n",
       "      <td>PARTIDO ISOLADO</td>\n",
       "      <td>PATRIOTA</td>\n",
       "      <td>1</td>\n",
       "      <td>BRASILEIRA NATA</td>\n",
       "      <td>PB</td>\n",
       "      <td>-3</td>\n",
       "      <td>JOÃO PESSOA</td>\n",
       "      <td>28/12/1967</td>\n",
       "      <td>53</td>\n",
       "      <td>260031279</td>\n",
       "      <td>2</td>\n",
       "      <td>MASCULINO</td>\n",
       "      <td>8</td>\n",
       "      <td>SUPERIOR COMPLETO</td>\n",
       "      <td>1</td>\n",
       "      <td>SOLTEIRO(A)</td>\n",
       "      <td>1</td>\n",
       "      <td>BRANCA</td>\n",
       "      <td>266</td>\n",
       "      <td>PROFESSOR DE ENSINO MÉDIO</td>\n",
       "      <td>311996</td>\n",
       "      <td>-1</td>\n",
       "      <td>#NULO#</td>\n",
       "      <td>N</td>\n",
       "      <td>S</td>\n",
       "      <td>-1</td>\n",
       "      <td>6003363320206150064</td>\n",
       "      <td>-1</td>\n",
       "      <td>#NULO#</td>\n",
       "      <td>-1</td>\n",
       "      <td>#NULO#</td>\n",
       "      <td>SIM</td>\n",
       "    </tr>\n",
       "    <tr>\n",
       "      <th>55</th>\n",
       "      <td>20/10/2020</td>\n",
       "      <td>12:07:05</td>\n",
       "      <td>2020</td>\n",
       "      <td>2</td>\n",
       "      <td>ELEIÇÃO ORDINÁRIA</td>\n",
       "      <td>1</td>\n",
       "      <td>426</td>\n",
       "      <td>Eleições Municipais 2020</td>\n",
       "      <td>15/11/2020</td>\n",
       "      <td>MUNICIPAL</td>\n",
       "      <td>PB</td>\n",
       "      <td>20516</td>\n",
       "      <td>JOÃO PESSOA</td>\n",
       "      <td>13</td>\n",
       "      <td>VEREADOR</td>\n",
       "      <td>150000817584</td>\n",
       "      <td>51051</td>\n",
       "      <td>JACKSON EVANGELISTA SOUSA DA SILVA</td>\n",
       "      <td>JACKSON EVANGELISTA</td>\n",
       "      <td>#NULO#</td>\n",
       "      <td>4620014400</td>\n",
       "      <td>JACKSONEVANGELISTA51@GMAIL.COM</td>\n",
       "      <td>12</td>\n",
       "      <td>APTO</td>\n",
       "      <td>2</td>\n",
       "      <td>DEFERIDO</td>\n",
       "      <td>PARTIDO ISOLADO</td>\n",
       "      <td>51</td>\n",
       "      <td>PATRIOTA</td>\n",
       "      <td>PATRIOTA</td>\n",
       "      <td>150000085198</td>\n",
       "      <td>PARTIDO ISOLADO</td>\n",
       "      <td>PATRIOTA</td>\n",
       "      <td>1</td>\n",
       "      <td>BRASILEIRA NATA</td>\n",
       "      <td>PB</td>\n",
       "      <td>-3</td>\n",
       "      <td>JOÃO PESSOA</td>\n",
       "      <td>04/02/1983</td>\n",
       "      <td>37</td>\n",
       "      <td>32683841279</td>\n",
       "      <td>2</td>\n",
       "      <td>MASCULINO</td>\n",
       "      <td>8</td>\n",
       "      <td>SUPERIOR COMPLETO</td>\n",
       "      <td>3</td>\n",
       "      <td>CASADO(A)</td>\n",
       "      <td>1</td>\n",
       "      <td>BRANCA</td>\n",
       "      <td>999</td>\n",
       "      <td>OUTROS</td>\n",
       "      <td>311996</td>\n",
       "      <td>-1</td>\n",
       "      <td>#NULO#</td>\n",
       "      <td>N</td>\n",
       "      <td>S</td>\n",
       "      <td>-1</td>\n",
       "      <td>6003380320206150064</td>\n",
       "      <td>-1</td>\n",
       "      <td>#NULO#</td>\n",
       "      <td>-1</td>\n",
       "      <td>#NULO#</td>\n",
       "      <td>SIM</td>\n",
       "    </tr>\n",
       "  </tbody>\n",
       "</table>\n",
       "</div>"
      ],
      "text/plain": [
       "    DT_GERACAO HH_GERACAO  ANO_ELEICAO  CD_TIPO_ELEICAO    NM_TIPO_ELEICAO  \\\n",
       "39  20/10/2020   12:07:05         2020                2  ELEIÇÃO ORDINÁRIA   \n",
       "44  20/10/2020   12:07:05         2020                2  ELEIÇÃO ORDINÁRIA   \n",
       "49  20/10/2020   12:07:05         2020                2  ELEIÇÃO ORDINÁRIA   \n",
       "53  20/10/2020   12:07:05         2020                2  ELEIÇÃO ORDINÁRIA   \n",
       "55  20/10/2020   12:07:05         2020                2  ELEIÇÃO ORDINÁRIA   \n",
       "\n",
       "    NR_TURNO  CD_ELEICAO                DS_ELEICAO  DT_ELEICAO TP_ABRANGENCIA  \\\n",
       "39         1         426  Eleições Municipais 2020  15/11/2020      MUNICIPAL   \n",
       "44         1         426  Eleições Municipais 2020  15/11/2020      MUNICIPAL   \n",
       "49         1         426  Eleições Municipais 2020  15/11/2020      MUNICIPAL   \n",
       "53         1         426  Eleições Municipais 2020  15/11/2020      MUNICIPAL   \n",
       "55         1         426  Eleições Municipais 2020  15/11/2020      MUNICIPAL   \n",
       "\n",
       "   SG_UF  SG_UE        NM_UE  CD_CARGO  DS_CARGO  SQ_CANDIDATO  NR_CANDIDATO  \\\n",
       "39    PB  20516  JOÃO PESSOA        13  VEREADOR  150000649797         50133   \n",
       "44    PB  20516  JOÃO PESSOA        13  VEREADOR  150000979704         80180   \n",
       "49    PB  20516  JOÃO PESSOA        13  VEREADOR  150001007308         12377   \n",
       "53    PB  20516  JOÃO PESSOA        13  VEREADOR  150000817586         51800   \n",
       "55    PB  20516  JOÃO PESSOA        13  VEREADOR  150000817584         51051   \n",
       "\n",
       "                          NM_CANDIDATO    NM_URNA_CANDIDATO  \\\n",
       "39       JÚLIO CÉSAR FERREIRA DA SILVA                JÚLIO   \n",
       "44         VITÓRIA OHARA MEIRELES DIAS        VITÓRIA OHARA   \n",
       "49           GILVANDRO SOARES DA SILVA      GILVANDRO SILVA   \n",
       "53         ANDRÉ LUÍS DOS SANTOS SILVA           ANDRE LUIS   \n",
       "55  JACKSON EVANGELISTA SOUSA DA SILVA  JACKSON EVANGELISTA   \n",
       "\n",
       "   NM_SOCIAL_CANDIDATO  NR_CPF_CANDIDATO                        NM_EMAIL  \\\n",
       "39              #NULO#       89530136404    PSOLJPELEICOES2020@GMAIL.COM   \n",
       "44              #NULO#       10439162459  CONTATO.VITORIAOHARA@GMAIL.COM   \n",
       "49              #NULO#        4081085412         GILVANDROVASO@GMAIL.COM   \n",
       "53              #NULO#       51843188449           ANDRELUIS51@GMAIL.COM   \n",
       "55              #NULO#        4620014400  JACKSONEVANGELISTA51@GMAIL.COM   \n",
       "\n",
       "    CD_SITUACAO_CANDIDATURA DS_SITUACAO_CANDIDATURA  CD_DETALHE_SITUACAO_CAND  \\\n",
       "39                       12                    APTO                         2   \n",
       "44                        1              CADASTRADO                         8   \n",
       "49                        1              CADASTRADO                         8   \n",
       "53                       12                    APTO                         2   \n",
       "55                       12                    APTO                         2   \n",
       "\n",
       "   DS_DETALHE_SITUACAO_CAND    TP_AGREMIACAO  NR_PARTIDO SG_PARTIDO  \\\n",
       "39                 DEFERIDO  PARTIDO ISOLADO          50       PSOL   \n",
       "44    AGUARDANDO JULGAMENTO  PARTIDO ISOLADO          80         UP   \n",
       "49    AGUARDANDO JULGAMENTO  PARTIDO ISOLADO          12        PDT   \n",
       "53                 DEFERIDO  PARTIDO ISOLADO          51   PATRIOTA   \n",
       "55                 DEFERIDO  PARTIDO ISOLADO          51   PATRIOTA   \n",
       "\n",
       "                         NM_PARTIDO  SQ_COLIGACAO     NM_COLIGACAO  \\\n",
       "39   PARTIDO SOCIALISMO E LIBERDADE  150000057746  PARTIDO ISOLADO   \n",
       "44                  UNIDADE POPULAR  150000114379  PARTIDO ISOLADO   \n",
       "49  PARTIDO DEMOCRÁTICO TRABALHISTA  150000118455  PARTIDO ISOLADO   \n",
       "53                         PATRIOTA  150000085198  PARTIDO ISOLADO   \n",
       "55                         PATRIOTA  150000085198  PARTIDO ISOLADO   \n",
       "\n",
       "   DS_COMPOSICAO_COLIGACAO  CD_NACIONALIDADE DS_NACIONALIDADE  \\\n",
       "39                    PSOL                 1  BRASILEIRA NATA   \n",
       "44                      UP                 1  BRASILEIRA NATA   \n",
       "49                     PDT                 1  BRASILEIRA NATA   \n",
       "53                PATRIOTA                 1  BRASILEIRA NATA   \n",
       "55                PATRIOTA                 1  BRASILEIRA NATA   \n",
       "\n",
       "   SG_UF_NASCIMENTO  CD_MUNICIPIO_NASCIMENTO NM_MUNICIPIO_NASCIMENTO  \\\n",
       "39               PE                       -3                  RECIFE   \n",
       "44               PE                       -3                  GOIANA   \n",
       "49               PB                       -3             JOÃO PESSOA   \n",
       "53               PB                       -3             JOÃO PESSOA   \n",
       "55               PB                       -3             JOÃO PESSOA   \n",
       "\n",
       "   DT_NASCIMENTO  NR_IDADE_DATA_POSSE  NR_TITULO_ELEITORAL_CANDIDATO  \\\n",
       "39    03/03/1973                   47                    39610400833   \n",
       "44    23/03/2000                   20                    46139061201   \n",
       "49    15/07/1979                   41                    27052241295   \n",
       "53    28/12/1967                   53                      260031279   \n",
       "55    04/02/1983                   37                    32683841279   \n",
       "\n",
       "    CD_GENERO  DS_GENERO  CD_GRAU_INSTRUCAO        DS_GRAU_INSTRUCAO  \\\n",
       "39          2  MASCULINO                  5  ENSINO MÉDIO INCOMPLETO   \n",
       "44          4   FEMININO                  6    ENSINO MÉDIO COMPLETO   \n",
       "49          2  MASCULINO                  6    ENSINO MÉDIO COMPLETO   \n",
       "53          2  MASCULINO                  8        SUPERIOR COMPLETO   \n",
       "55          2  MASCULINO                  8        SUPERIOR COMPLETO   \n",
       "\n",
       "    CD_ESTADO_CIVIL DS_ESTADO_CIVIL  CD_COR_RACA DS_COR_RACA  CD_OCUPACAO  \\\n",
       "39                1     SOLTEIRO(A)            2       PRETA          999   \n",
       "44                1     SOLTEIRO(A)            3       PARDA          931   \n",
       "49                1     SOLTEIRO(A)            3       PARDA          999   \n",
       "53                1     SOLTEIRO(A)            1      BRANCA          266   \n",
       "55                3       CASADO(A)            1      BRANCA          999   \n",
       "\n",
       "                                       DS_OCUPACAO  VR_DESPESA_MAX_CAMPANHA  \\\n",
       "39                                          OUTROS                   311996   \n",
       "44  ESTUDANTE, BOLSISTA, ESTAGIÁRIO E ASSEMELHADOS                   311996   \n",
       "49                                          OUTROS                   311996   \n",
       "53                       PROFESSOR DE ENSINO MÉDIO                   311996   \n",
       "55                                          OUTROS                   311996   \n",
       "\n",
       "    CD_SIT_TOT_TURNO DS_SIT_TOT_TURNO ST_REELEICAO ST_DECLARAR_BENS  \\\n",
       "39                -1           #NULO#            N                S   \n",
       "44                -1           #NULO#            N                S   \n",
       "49                -1           #NULO#            N                S   \n",
       "53                -1           #NULO#            N                S   \n",
       "55                -1           #NULO#            N                S   \n",
       "\n",
       "    NR_PROTOCOLO_CANDIDATURA          NR_PROCESSO  \\\n",
       "39                        -1  6001050620206150064   \n",
       "44                        -1  6005277820206150064   \n",
       "49                        -1  6005736720206150064   \n",
       "53                        -1  6003363320206150064   \n",
       "55                        -1  6003380320206150064   \n",
       "\n",
       "    CD_SITUACAO_CANDIDATO_PLEITO DS_SITUACAO_CANDIDATO_PLEITO  \\\n",
       "39                            -1                       #NULO#   \n",
       "44                            -1                       #NULO#   \n",
       "49                            -1                       #NULO#   \n",
       "53                            -1                       #NULO#   \n",
       "55                            -1                       #NULO#   \n",
       "\n",
       "    CD_SITUACAO_CANDIDATO_URNA DS_SITUACAO_CANDIDATO_URNA  \\\n",
       "39                          -1                     #NULO#   \n",
       "44                          -1                     #NULO#   \n",
       "49                          -1                     #NULO#   \n",
       "53                          -1                     #NULO#   \n",
       "55                          -1                     #NULO#   \n",
       "\n",
       "   ST_CANDIDATO_INSERIDO_URNA  \n",
       "39                        SIM  \n",
       "44                        NÃO  \n",
       "49                        NÃO  \n",
       "53                        SIM  \n",
       "55                        SIM  "
      ]
     },
     "execution_count": 107,
     "metadata": {},
     "output_type": "execute_result"
    }
   ],
   "source": [
    "df_lista.head()"
   ]
  },
  {
   "cell_type": "markdown",
   "metadata": {},
   "source": [
    "# Merge Lista e Bens"
   ]
  },
  {
   "cell_type": "code",
   "execution_count": 112,
   "metadata": {
    "ExecuteTime": {
     "end_time": "2020-10-27T12:20:09.629104Z",
     "start_time": "2020-10-27T12:20:09.612082Z"
    }
   },
   "outputs": [],
   "source": [
    "df_final = df_lista.merge(df_bens_vlr,on='SQ_CANDIDATO')"
   ]
  },
  {
   "cell_type": "code",
   "execution_count": 114,
   "metadata": {
    "ExecuteTime": {
     "end_time": "2020-10-27T12:22:26.608264Z",
     "start_time": "2020-10-27T12:22:26.571232Z"
    }
   },
   "outputs": [
    {
     "data": {
      "text/html": [
       "<div>\n",
       "<style scoped>\n",
       "    .dataframe tbody tr th:only-of-type {\n",
       "        vertical-align: middle;\n",
       "    }\n",
       "\n",
       "    .dataframe tbody tr th {\n",
       "        vertical-align: top;\n",
       "    }\n",
       "\n",
       "    .dataframe thead th {\n",
       "        text-align: right;\n",
       "    }\n",
       "</style>\n",
       "<table border=\"1\" class=\"dataframe\">\n",
       "  <thead>\n",
       "    <tr style=\"text-align: right;\">\n",
       "      <th></th>\n",
       "      <th>DT_GERACAO</th>\n",
       "      <th>HH_GERACAO</th>\n",
       "      <th>ANO_ELEICAO</th>\n",
       "      <th>CD_TIPO_ELEICAO</th>\n",
       "      <th>NM_TIPO_ELEICAO</th>\n",
       "      <th>NR_TURNO</th>\n",
       "      <th>CD_ELEICAO</th>\n",
       "      <th>DS_ELEICAO</th>\n",
       "      <th>DT_ELEICAO</th>\n",
       "      <th>TP_ABRANGENCIA</th>\n",
       "      <th>SG_UF</th>\n",
       "      <th>SG_UE</th>\n",
       "      <th>NM_UE</th>\n",
       "      <th>CD_CARGO</th>\n",
       "      <th>DS_CARGO</th>\n",
       "      <th>SQ_CANDIDATO</th>\n",
       "      <th>NR_CANDIDATO</th>\n",
       "      <th>NM_CANDIDATO</th>\n",
       "      <th>NM_URNA_CANDIDATO</th>\n",
       "      <th>NM_SOCIAL_CANDIDATO</th>\n",
       "      <th>NR_CPF_CANDIDATO</th>\n",
       "      <th>NM_EMAIL</th>\n",
       "      <th>CD_SITUACAO_CANDIDATURA</th>\n",
       "      <th>DS_SITUACAO_CANDIDATURA</th>\n",
       "      <th>CD_DETALHE_SITUACAO_CAND</th>\n",
       "      <th>DS_DETALHE_SITUACAO_CAND</th>\n",
       "      <th>TP_AGREMIACAO</th>\n",
       "      <th>NR_PARTIDO</th>\n",
       "      <th>SG_PARTIDO</th>\n",
       "      <th>NM_PARTIDO</th>\n",
       "      <th>SQ_COLIGACAO</th>\n",
       "      <th>NM_COLIGACAO</th>\n",
       "      <th>DS_COMPOSICAO_COLIGACAO</th>\n",
       "      <th>CD_NACIONALIDADE</th>\n",
       "      <th>DS_NACIONALIDADE</th>\n",
       "      <th>SG_UF_NASCIMENTO</th>\n",
       "      <th>CD_MUNICIPIO_NASCIMENTO</th>\n",
       "      <th>NM_MUNICIPIO_NASCIMENTO</th>\n",
       "      <th>DT_NASCIMENTO</th>\n",
       "      <th>NR_IDADE_DATA_POSSE</th>\n",
       "      <th>NR_TITULO_ELEITORAL_CANDIDATO</th>\n",
       "      <th>CD_GENERO</th>\n",
       "      <th>DS_GENERO</th>\n",
       "      <th>CD_GRAU_INSTRUCAO</th>\n",
       "      <th>DS_GRAU_INSTRUCAO</th>\n",
       "      <th>CD_ESTADO_CIVIL</th>\n",
       "      <th>DS_ESTADO_CIVIL</th>\n",
       "      <th>CD_COR_RACA</th>\n",
       "      <th>DS_COR_RACA</th>\n",
       "      <th>CD_OCUPACAO</th>\n",
       "      <th>DS_OCUPACAO</th>\n",
       "      <th>VR_DESPESA_MAX_CAMPANHA</th>\n",
       "      <th>CD_SIT_TOT_TURNO</th>\n",
       "      <th>DS_SIT_TOT_TURNO</th>\n",
       "      <th>ST_REELEICAO</th>\n",
       "      <th>ST_DECLARAR_BENS</th>\n",
       "      <th>NR_PROTOCOLO_CANDIDATURA</th>\n",
       "      <th>NR_PROCESSO</th>\n",
       "      <th>CD_SITUACAO_CANDIDATO_PLEITO</th>\n",
       "      <th>DS_SITUACAO_CANDIDATO_PLEITO</th>\n",
       "      <th>CD_SITUACAO_CANDIDATO_URNA</th>\n",
       "      <th>DS_SITUACAO_CANDIDATO_URNA</th>\n",
       "      <th>ST_CANDIDATO_INSERIDO_URNA</th>\n",
       "      <th>SUM_VR_BEM_CANDIDATO</th>\n",
       "    </tr>\n",
       "  </thead>\n",
       "  <tbody>\n",
       "    <tr>\n",
       "      <th>0</th>\n",
       "      <td>20/10/2020</td>\n",
       "      <td>12:07:05</td>\n",
       "      <td>2020</td>\n",
       "      <td>2</td>\n",
       "      <td>ELEIÇÃO ORDINÁRIA</td>\n",
       "      <td>1</td>\n",
       "      <td>426</td>\n",
       "      <td>Eleições Municipais 2020</td>\n",
       "      <td>15/11/2020</td>\n",
       "      <td>MUNICIPAL</td>\n",
       "      <td>PB</td>\n",
       "      <td>20516</td>\n",
       "      <td>JOÃO PESSOA</td>\n",
       "      <td>13</td>\n",
       "      <td>VEREADOR</td>\n",
       "      <td>150000817586</td>\n",
       "      <td>51800</td>\n",
       "      <td>ANDRÉ LUÍS DOS SANTOS SILVA</td>\n",
       "      <td>ANDRE LUIS</td>\n",
       "      <td>#NULO#</td>\n",
       "      <td>51843188449</td>\n",
       "      <td>ANDRELUIS51@GMAIL.COM</td>\n",
       "      <td>12</td>\n",
       "      <td>APTO</td>\n",
       "      <td>2</td>\n",
       "      <td>DEFERIDO</td>\n",
       "      <td>PARTIDO ISOLADO</td>\n",
       "      <td>51</td>\n",
       "      <td>PATRIOTA</td>\n",
       "      <td>PATRIOTA</td>\n",
       "      <td>150000085198</td>\n",
       "      <td>PARTIDO ISOLADO</td>\n",
       "      <td>PATRIOTA</td>\n",
       "      <td>1</td>\n",
       "      <td>BRASILEIRA NATA</td>\n",
       "      <td>PB</td>\n",
       "      <td>-3</td>\n",
       "      <td>JOÃO PESSOA</td>\n",
       "      <td>28/12/1967</td>\n",
       "      <td>53</td>\n",
       "      <td>260031279</td>\n",
       "      <td>2</td>\n",
       "      <td>MASCULINO</td>\n",
       "      <td>8</td>\n",
       "      <td>SUPERIOR COMPLETO</td>\n",
       "      <td>1</td>\n",
       "      <td>SOLTEIRO(A)</td>\n",
       "      <td>1</td>\n",
       "      <td>BRANCA</td>\n",
       "      <td>266</td>\n",
       "      <td>PROFESSOR DE ENSINO MÉDIO</td>\n",
       "      <td>311996</td>\n",
       "      <td>-1</td>\n",
       "      <td>#NULO#</td>\n",
       "      <td>N</td>\n",
       "      <td>S</td>\n",
       "      <td>-1</td>\n",
       "      <td>6003363320206150064</td>\n",
       "      <td>-1</td>\n",
       "      <td>#NULO#</td>\n",
       "      <td>-1</td>\n",
       "      <td>#NULO#</td>\n",
       "      <td>SIM</td>\n",
       "      <td>153000.00</td>\n",
       "    </tr>\n",
       "    <tr>\n",
       "      <th>1</th>\n",
       "      <td>20/10/2020</td>\n",
       "      <td>12:07:05</td>\n",
       "      <td>2020</td>\n",
       "      <td>2</td>\n",
       "      <td>ELEIÇÃO ORDINÁRIA</td>\n",
       "      <td>1</td>\n",
       "      <td>426</td>\n",
       "      <td>Eleições Municipais 2020</td>\n",
       "      <td>15/11/2020</td>\n",
       "      <td>MUNICIPAL</td>\n",
       "      <td>PB</td>\n",
       "      <td>20516</td>\n",
       "      <td>JOÃO PESSOA</td>\n",
       "      <td>13</td>\n",
       "      <td>VEREADOR</td>\n",
       "      <td>150000817584</td>\n",
       "      <td>51051</td>\n",
       "      <td>JACKSON EVANGELISTA SOUSA DA SILVA</td>\n",
       "      <td>JACKSON EVANGELISTA</td>\n",
       "      <td>#NULO#</td>\n",
       "      <td>4620014400</td>\n",
       "      <td>JACKSONEVANGELISTA51@GMAIL.COM</td>\n",
       "      <td>12</td>\n",
       "      <td>APTO</td>\n",
       "      <td>2</td>\n",
       "      <td>DEFERIDO</td>\n",
       "      <td>PARTIDO ISOLADO</td>\n",
       "      <td>51</td>\n",
       "      <td>PATRIOTA</td>\n",
       "      <td>PATRIOTA</td>\n",
       "      <td>150000085198</td>\n",
       "      <td>PARTIDO ISOLADO</td>\n",
       "      <td>PATRIOTA</td>\n",
       "      <td>1</td>\n",
       "      <td>BRASILEIRA NATA</td>\n",
       "      <td>PB</td>\n",
       "      <td>-3</td>\n",
       "      <td>JOÃO PESSOA</td>\n",
       "      <td>04/02/1983</td>\n",
       "      <td>37</td>\n",
       "      <td>32683841279</td>\n",
       "      <td>2</td>\n",
       "      <td>MASCULINO</td>\n",
       "      <td>8</td>\n",
       "      <td>SUPERIOR COMPLETO</td>\n",
       "      <td>3</td>\n",
       "      <td>CASADO(A)</td>\n",
       "      <td>1</td>\n",
       "      <td>BRANCA</td>\n",
       "      <td>999</td>\n",
       "      <td>OUTROS</td>\n",
       "      <td>311996</td>\n",
       "      <td>-1</td>\n",
       "      <td>#NULO#</td>\n",
       "      <td>N</td>\n",
       "      <td>S</td>\n",
       "      <td>-1</td>\n",
       "      <td>6003380320206150064</td>\n",
       "      <td>-1</td>\n",
       "      <td>#NULO#</td>\n",
       "      <td>-1</td>\n",
       "      <td>#NULO#</td>\n",
       "      <td>SIM</td>\n",
       "      <td>154581.25</td>\n",
       "    </tr>\n",
       "    <tr>\n",
       "      <th>2</th>\n",
       "      <td>20/10/2020</td>\n",
       "      <td>12:07:05</td>\n",
       "      <td>2020</td>\n",
       "      <td>2</td>\n",
       "      <td>ELEIÇÃO ORDINÁRIA</td>\n",
       "      <td>1</td>\n",
       "      <td>426</td>\n",
       "      <td>Eleições Municipais 2020</td>\n",
       "      <td>15/11/2020</td>\n",
       "      <td>MUNICIPAL</td>\n",
       "      <td>PB</td>\n",
       "      <td>20516</td>\n",
       "      <td>JOÃO PESSOA</td>\n",
       "      <td>13</td>\n",
       "      <td>VEREADOR</td>\n",
       "      <td>150001026002</td>\n",
       "      <td>35777</td>\n",
       "      <td>FRANCISCO RINALDO MARANHÃO DE FIGUEIREDO</td>\n",
       "      <td>RINALDO MARANHÃO</td>\n",
       "      <td>#NULO#</td>\n",
       "      <td>2925572480</td>\n",
       "      <td>RINALDOMARANHAO@GMAIL.COM</td>\n",
       "      <td>1</td>\n",
       "      <td>CADASTRADO</td>\n",
       "      <td>8</td>\n",
       "      <td>AGUARDANDO JULGAMENTO</td>\n",
       "      <td>PARTIDO ISOLADO</td>\n",
       "      <td>35</td>\n",
       "      <td>PMB</td>\n",
       "      <td>PARTIDO DA MULHER BRASILEIRA</td>\n",
       "      <td>150000123454</td>\n",
       "      <td>PARTIDO ISOLADO</td>\n",
       "      <td>PMB</td>\n",
       "      <td>1</td>\n",
       "      <td>BRASILEIRA NATA</td>\n",
       "      <td>CE</td>\n",
       "      <td>-3</td>\n",
       "      <td>BREJO SANTO</td>\n",
       "      <td>02/10/1978</td>\n",
       "      <td>42</td>\n",
       "      <td>25693721279</td>\n",
       "      <td>2</td>\n",
       "      <td>MASCULINO</td>\n",
       "      <td>8</td>\n",
       "      <td>SUPERIOR COMPLETO</td>\n",
       "      <td>3</td>\n",
       "      <td>CASADO(A)</td>\n",
       "      <td>1</td>\n",
       "      <td>BRANCA</td>\n",
       "      <td>126</td>\n",
       "      <td>ANALISTA DE SISTEMAS</td>\n",
       "      <td>311996</td>\n",
       "      <td>-1</td>\n",
       "      <td>#NULO#</td>\n",
       "      <td>N</td>\n",
       "      <td>S</td>\n",
       "      <td>-1</td>\n",
       "      <td>6007148620206150064</td>\n",
       "      <td>-1</td>\n",
       "      <td>#NULO#</td>\n",
       "      <td>-1</td>\n",
       "      <td>#NULO#</td>\n",
       "      <td>NÃO</td>\n",
       "      <td>195000.00</td>\n",
       "    </tr>\n",
       "    <tr>\n",
       "      <th>3</th>\n",
       "      <td>20/10/2020</td>\n",
       "      <td>12:07:05</td>\n",
       "      <td>2020</td>\n",
       "      <td>2</td>\n",
       "      <td>ELEIÇÃO ORDINÁRIA</td>\n",
       "      <td>1</td>\n",
       "      <td>426</td>\n",
       "      <td>Eleições Municipais 2020</td>\n",
       "      <td>15/11/2020</td>\n",
       "      <td>MUNICIPAL</td>\n",
       "      <td>PB</td>\n",
       "      <td>20516</td>\n",
       "      <td>JOÃO PESSOA</td>\n",
       "      <td>13</td>\n",
       "      <td>VEREADOR</td>\n",
       "      <td>150000737279</td>\n",
       "      <td>70222</td>\n",
       "      <td>TANILSON TARSO NOBREGA SOARES</td>\n",
       "      <td>TANILSON SOARES</td>\n",
       "      <td>#NULO#</td>\n",
       "      <td>2075103429</td>\n",
       "      <td>AVANTEPARAIBA70@GMAIL.COM</td>\n",
       "      <td>12</td>\n",
       "      <td>APTO</td>\n",
       "      <td>2</td>\n",
       "      <td>DEFERIDO</td>\n",
       "      <td>PARTIDO ISOLADO</td>\n",
       "      <td>70</td>\n",
       "      <td>AVANTE</td>\n",
       "      <td>AVANTE</td>\n",
       "      <td>150000069293</td>\n",
       "      <td>PARTIDO ISOLADO</td>\n",
       "      <td>AVANTE</td>\n",
       "      <td>1</td>\n",
       "      <td>BRASILEIRA NATA</td>\n",
       "      <td>PB</td>\n",
       "      <td>-3</td>\n",
       "      <td>JOÃO PESSOA</td>\n",
       "      <td>12/07/1976</td>\n",
       "      <td>44</td>\n",
       "      <td>23706931279</td>\n",
       "      <td>2</td>\n",
       "      <td>MASCULINO</td>\n",
       "      <td>8</td>\n",
       "      <td>SUPERIOR COMPLETO</td>\n",
       "      <td>3</td>\n",
       "      <td>CASADO(A)</td>\n",
       "      <td>1</td>\n",
       "      <td>BRANCA</td>\n",
       "      <td>278</td>\n",
       "      <td>VEREADOR</td>\n",
       "      <td>311996</td>\n",
       "      <td>-1</td>\n",
       "      <td>#NULO#</td>\n",
       "      <td>S</td>\n",
       "      <td>S</td>\n",
       "      <td>-1</td>\n",
       "      <td>6002064320206150064</td>\n",
       "      <td>-1</td>\n",
       "      <td>#NULO#</td>\n",
       "      <td>-1</td>\n",
       "      <td>#NULO#</td>\n",
       "      <td>SIM</td>\n",
       "      <td>271910.94</td>\n",
       "    </tr>\n",
       "    <tr>\n",
       "      <th>4</th>\n",
       "      <td>20/10/2020</td>\n",
       "      <td>12:07:05</td>\n",
       "      <td>2020</td>\n",
       "      <td>2</td>\n",
       "      <td>ELEIÇÃO ORDINÁRIA</td>\n",
       "      <td>1</td>\n",
       "      <td>426</td>\n",
       "      <td>Eleições Municipais 2020</td>\n",
       "      <td>15/11/2020</td>\n",
       "      <td>MUNICIPAL</td>\n",
       "      <td>PB</td>\n",
       "      <td>20516</td>\n",
       "      <td>JOÃO PESSOA</td>\n",
       "      <td>13</td>\n",
       "      <td>VEREADOR</td>\n",
       "      <td>150001245930</td>\n",
       "      <td>65999</td>\n",
       "      <td>JOSÉ ALBERTO CORREIA DE LIRA</td>\n",
       "      <td>BETO ART-GRADE</td>\n",
       "      <td>#NULO#</td>\n",
       "      <td>83991522420</td>\n",
       "      <td>SERRALHARIAART-GRADE@OUTLOOK.COM</td>\n",
       "      <td>1</td>\n",
       "      <td>CADASTRADO</td>\n",
       "      <td>8</td>\n",
       "      <td>AGUARDANDO JULGAMENTO</td>\n",
       "      <td>PARTIDO ISOLADO</td>\n",
       "      <td>65</td>\n",
       "      <td>PC do B</td>\n",
       "      <td>PARTIDO COMUNISTA DO BRASIL</td>\n",
       "      <td>150000154459</td>\n",
       "      <td>PARTIDO ISOLADO</td>\n",
       "      <td>PC do B</td>\n",
       "      <td>1</td>\n",
       "      <td>BRASILEIRA NATA</td>\n",
       "      <td>PB</td>\n",
       "      <td>-3</td>\n",
       "      <td>ARAÇAGI</td>\n",
       "      <td>19/03/1970</td>\n",
       "      <td>50</td>\n",
       "      <td>19831431295</td>\n",
       "      <td>2</td>\n",
       "      <td>MASCULINO</td>\n",
       "      <td>6</td>\n",
       "      <td>ENSINO MÉDIO COMPLETO</td>\n",
       "      <td>3</td>\n",
       "      <td>CASADO(A)</td>\n",
       "      <td>3</td>\n",
       "      <td>PARDA</td>\n",
       "      <td>239</td>\n",
       "      <td>SERRALHEIRO</td>\n",
       "      <td>311996</td>\n",
       "      <td>-1</td>\n",
       "      <td>#NULO#</td>\n",
       "      <td>N</td>\n",
       "      <td>S</td>\n",
       "      <td>-1</td>\n",
       "      <td>6007988720206150064</td>\n",
       "      <td>-1</td>\n",
       "      <td>#NULO#</td>\n",
       "      <td>-1</td>\n",
       "      <td>#NULO#</td>\n",
       "      <td>NÃO</td>\n",
       "      <td>16000.00</td>\n",
       "    </tr>\n",
       "  </tbody>\n",
       "</table>\n",
       "</div>"
      ],
      "text/plain": [
       "   DT_GERACAO HH_GERACAO  ANO_ELEICAO  CD_TIPO_ELEICAO    NM_TIPO_ELEICAO  \\\n",
       "0  20/10/2020   12:07:05         2020                2  ELEIÇÃO ORDINÁRIA   \n",
       "1  20/10/2020   12:07:05         2020                2  ELEIÇÃO ORDINÁRIA   \n",
       "2  20/10/2020   12:07:05         2020                2  ELEIÇÃO ORDINÁRIA   \n",
       "3  20/10/2020   12:07:05         2020                2  ELEIÇÃO ORDINÁRIA   \n",
       "4  20/10/2020   12:07:05         2020                2  ELEIÇÃO ORDINÁRIA   \n",
       "\n",
       "   NR_TURNO  CD_ELEICAO                DS_ELEICAO  DT_ELEICAO TP_ABRANGENCIA  \\\n",
       "0         1         426  Eleições Municipais 2020  15/11/2020      MUNICIPAL   \n",
       "1         1         426  Eleições Municipais 2020  15/11/2020      MUNICIPAL   \n",
       "2         1         426  Eleições Municipais 2020  15/11/2020      MUNICIPAL   \n",
       "3         1         426  Eleições Municipais 2020  15/11/2020      MUNICIPAL   \n",
       "4         1         426  Eleições Municipais 2020  15/11/2020      MUNICIPAL   \n",
       "\n",
       "  SG_UF  SG_UE        NM_UE  CD_CARGO  DS_CARGO  SQ_CANDIDATO  NR_CANDIDATO  \\\n",
       "0    PB  20516  JOÃO PESSOA        13  VEREADOR  150000817586         51800   \n",
       "1    PB  20516  JOÃO PESSOA        13  VEREADOR  150000817584         51051   \n",
       "2    PB  20516  JOÃO PESSOA        13  VEREADOR  150001026002         35777   \n",
       "3    PB  20516  JOÃO PESSOA        13  VEREADOR  150000737279         70222   \n",
       "4    PB  20516  JOÃO PESSOA        13  VEREADOR  150001245930         65999   \n",
       "\n",
       "                               NM_CANDIDATO    NM_URNA_CANDIDATO  \\\n",
       "0               ANDRÉ LUÍS DOS SANTOS SILVA           ANDRE LUIS   \n",
       "1        JACKSON EVANGELISTA SOUSA DA SILVA  JACKSON EVANGELISTA   \n",
       "2  FRANCISCO RINALDO MARANHÃO DE FIGUEIREDO     RINALDO MARANHÃO   \n",
       "3             TANILSON TARSO NOBREGA SOARES      TANILSON SOARES   \n",
       "4              JOSÉ ALBERTO CORREIA DE LIRA       BETO ART-GRADE   \n",
       "\n",
       "  NM_SOCIAL_CANDIDATO  NR_CPF_CANDIDATO                          NM_EMAIL  \\\n",
       "0              #NULO#       51843188449             ANDRELUIS51@GMAIL.COM   \n",
       "1              #NULO#        4620014400    JACKSONEVANGELISTA51@GMAIL.COM   \n",
       "2              #NULO#        2925572480         RINALDOMARANHAO@GMAIL.COM   \n",
       "3              #NULO#        2075103429         AVANTEPARAIBA70@GMAIL.COM   \n",
       "4              #NULO#       83991522420  SERRALHARIAART-GRADE@OUTLOOK.COM   \n",
       "\n",
       "   CD_SITUACAO_CANDIDATURA DS_SITUACAO_CANDIDATURA  CD_DETALHE_SITUACAO_CAND  \\\n",
       "0                       12                    APTO                         2   \n",
       "1                       12                    APTO                         2   \n",
       "2                        1              CADASTRADO                         8   \n",
       "3                       12                    APTO                         2   \n",
       "4                        1              CADASTRADO                         8   \n",
       "\n",
       "  DS_DETALHE_SITUACAO_CAND    TP_AGREMIACAO  NR_PARTIDO SG_PARTIDO  \\\n",
       "0                 DEFERIDO  PARTIDO ISOLADO          51   PATRIOTA   \n",
       "1                 DEFERIDO  PARTIDO ISOLADO          51   PATRIOTA   \n",
       "2    AGUARDANDO JULGAMENTO  PARTIDO ISOLADO          35        PMB   \n",
       "3                 DEFERIDO  PARTIDO ISOLADO          70     AVANTE   \n",
       "4    AGUARDANDO JULGAMENTO  PARTIDO ISOLADO          65    PC do B   \n",
       "\n",
       "                     NM_PARTIDO  SQ_COLIGACAO     NM_COLIGACAO  \\\n",
       "0                      PATRIOTA  150000085198  PARTIDO ISOLADO   \n",
       "1                      PATRIOTA  150000085198  PARTIDO ISOLADO   \n",
       "2  PARTIDO DA MULHER BRASILEIRA  150000123454  PARTIDO ISOLADO   \n",
       "3                        AVANTE  150000069293  PARTIDO ISOLADO   \n",
       "4   PARTIDO COMUNISTA DO BRASIL  150000154459  PARTIDO ISOLADO   \n",
       "\n",
       "  DS_COMPOSICAO_COLIGACAO  CD_NACIONALIDADE DS_NACIONALIDADE SG_UF_NASCIMENTO  \\\n",
       "0                PATRIOTA                 1  BRASILEIRA NATA               PB   \n",
       "1                PATRIOTA                 1  BRASILEIRA NATA               PB   \n",
       "2                     PMB                 1  BRASILEIRA NATA               CE   \n",
       "3                  AVANTE                 1  BRASILEIRA NATA               PB   \n",
       "4                 PC do B                 1  BRASILEIRA NATA               PB   \n",
       "\n",
       "   CD_MUNICIPIO_NASCIMENTO NM_MUNICIPIO_NASCIMENTO DT_NASCIMENTO  \\\n",
       "0                       -3             JOÃO PESSOA    28/12/1967   \n",
       "1                       -3             JOÃO PESSOA    04/02/1983   \n",
       "2                       -3             BREJO SANTO    02/10/1978   \n",
       "3                       -3             JOÃO PESSOA    12/07/1976   \n",
       "4                       -3                 ARAÇAGI    19/03/1970   \n",
       "\n",
       "   NR_IDADE_DATA_POSSE  NR_TITULO_ELEITORAL_CANDIDATO  CD_GENERO  DS_GENERO  \\\n",
       "0                   53                      260031279          2  MASCULINO   \n",
       "1                   37                    32683841279          2  MASCULINO   \n",
       "2                   42                    25693721279          2  MASCULINO   \n",
       "3                   44                    23706931279          2  MASCULINO   \n",
       "4                   50                    19831431295          2  MASCULINO   \n",
       "\n",
       "   CD_GRAU_INSTRUCAO      DS_GRAU_INSTRUCAO  CD_ESTADO_CIVIL DS_ESTADO_CIVIL  \\\n",
       "0                  8      SUPERIOR COMPLETO                1     SOLTEIRO(A)   \n",
       "1                  8      SUPERIOR COMPLETO                3       CASADO(A)   \n",
       "2                  8      SUPERIOR COMPLETO                3       CASADO(A)   \n",
       "3                  8      SUPERIOR COMPLETO                3       CASADO(A)   \n",
       "4                  6  ENSINO MÉDIO COMPLETO                3       CASADO(A)   \n",
       "\n",
       "   CD_COR_RACA DS_COR_RACA  CD_OCUPACAO                DS_OCUPACAO  \\\n",
       "0            1      BRANCA          266  PROFESSOR DE ENSINO MÉDIO   \n",
       "1            1      BRANCA          999                     OUTROS   \n",
       "2            1      BRANCA          126       ANALISTA DE SISTEMAS   \n",
       "3            1      BRANCA          278                   VEREADOR   \n",
       "4            3       PARDA          239                SERRALHEIRO   \n",
       "\n",
       "   VR_DESPESA_MAX_CAMPANHA  CD_SIT_TOT_TURNO DS_SIT_TOT_TURNO ST_REELEICAO  \\\n",
       "0                   311996                -1           #NULO#            N   \n",
       "1                   311996                -1           #NULO#            N   \n",
       "2                   311996                -1           #NULO#            N   \n",
       "3                   311996                -1           #NULO#            S   \n",
       "4                   311996                -1           #NULO#            N   \n",
       "\n",
       "  ST_DECLARAR_BENS  NR_PROTOCOLO_CANDIDATURA          NR_PROCESSO  \\\n",
       "0                S                        -1  6003363320206150064   \n",
       "1                S                        -1  6003380320206150064   \n",
       "2                S                        -1  6007148620206150064   \n",
       "3                S                        -1  6002064320206150064   \n",
       "4                S                        -1  6007988720206150064   \n",
       "\n",
       "   CD_SITUACAO_CANDIDATO_PLEITO DS_SITUACAO_CANDIDATO_PLEITO  \\\n",
       "0                            -1                       #NULO#   \n",
       "1                            -1                       #NULO#   \n",
       "2                            -1                       #NULO#   \n",
       "3                            -1                       #NULO#   \n",
       "4                            -1                       #NULO#   \n",
       "\n",
       "   CD_SITUACAO_CANDIDATO_URNA DS_SITUACAO_CANDIDATO_URNA  \\\n",
       "0                          -1                     #NULO#   \n",
       "1                          -1                     #NULO#   \n",
       "2                          -1                     #NULO#   \n",
       "3                          -1                     #NULO#   \n",
       "4                          -1                     #NULO#   \n",
       "\n",
       "  ST_CANDIDATO_INSERIDO_URNA  SUM_VR_BEM_CANDIDATO  \n",
       "0                        SIM             153000.00  \n",
       "1                        SIM             154581.25  \n",
       "2                        NÃO             195000.00  \n",
       "3                        SIM             271910.94  \n",
       "4                        NÃO              16000.00  "
      ]
     },
     "execution_count": 114,
     "metadata": {},
     "output_type": "execute_result"
    }
   ],
   "source": [
    "df_final.head()"
   ]
  },
  {
   "cell_type": "code",
   "execution_count": 142,
   "metadata": {
    "ExecuteTime": {
     "end_time": "2020-10-27T19:48:26.547171Z",
     "start_time": "2020-10-27T19:48:26.536173Z"
    }
   },
   "outputs": [],
   "source": [
    "df_sum_bens_por_partido = df_final.groupby('NR_PARTIDO').agg({'SUM_VR_BEM_CANDIDATO': ['sum']}).reset_index()\n",
    "df_sum_bens_por_partido.columns = ['Partido','Soma de Bens']"
   ]
  },
  {
   "cell_type": "code",
   "execution_count": 143,
   "metadata": {
    "ExecuteTime": {
     "end_time": "2020-10-27T19:48:26.951007Z",
     "start_time": "2020-10-27T19:48:26.946007Z"
    }
   },
   "outputs": [],
   "source": [
    "df_sum_bens_por_partido['Partido'] = df_sum_bens_por_partido['Partido'].astype(str)"
   ]
  },
  {
   "cell_type": "code",
   "execution_count": 144,
   "metadata": {
    "ExecuteTime": {
     "end_time": "2020-10-27T19:48:32.396900Z",
     "start_time": "2020-10-27T19:48:32.392898Z"
    }
   },
   "outputs": [],
   "source": [
    "df_sum_bens_por_partido.sort_values(by = 'Soma de Bens',inplace=True)"
   ]
  },
  {
   "cell_type": "code",
   "execution_count": 147,
   "metadata": {
    "ExecuteTime": {
     "end_time": "2020-10-27T19:48:42.264213Z",
     "start_time": "2020-10-27T19:48:42.242212Z"
    }
   },
   "outputs": [
    {
     "data": {
      "text/html": [
       "<div>\n",
       "<style scoped>\n",
       "    .dataframe tbody tr th:only-of-type {\n",
       "        vertical-align: middle;\n",
       "    }\n",
       "\n",
       "    .dataframe tbody tr th {\n",
       "        vertical-align: top;\n",
       "    }\n",
       "\n",
       "    .dataframe thead th {\n",
       "        text-align: right;\n",
       "    }\n",
       "</style>\n",
       "<table border=\"1\" class=\"dataframe\">\n",
       "  <thead>\n",
       "    <tr style=\"text-align: right;\">\n",
       "      <th></th>\n",
       "      <th>Partido</th>\n",
       "      <th>Soma de Bens</th>\n",
       "    </tr>\n",
       "  </thead>\n",
       "  <tbody>\n",
       "    <tr>\n",
       "      <th>13</th>\n",
       "      <td>29</td>\n",
       "      <td>8500.00</td>\n",
       "    </tr>\n",
       "    <tr>\n",
       "      <th>14</th>\n",
       "      <td>33</td>\n",
       "      <td>193500.00</td>\n",
       "    </tr>\n",
       "    <tr>\n",
       "      <th>24</th>\n",
       "      <td>80</td>\n",
       "      <td>209523.00</td>\n",
       "    </tr>\n",
       "    <tr>\n",
       "      <th>8</th>\n",
       "      <td>20</td>\n",
       "      <td>871980.23</td>\n",
       "    </tr>\n",
       "    <tr>\n",
       "      <th>19</th>\n",
       "      <td>50</td>\n",
       "      <td>1174964.89</td>\n",
       "    </tr>\n",
       "  </tbody>\n",
       "</table>\n",
       "</div>"
      ],
      "text/plain": [
       "   Partido  Soma de Bens\n",
       "13      29       8500.00\n",
       "14      33     193500.00\n",
       "24      80     209523.00\n",
       "8       20     871980.23\n",
       "19      50    1174964.89"
      ]
     },
     "execution_count": 147,
     "metadata": {},
     "output_type": "execute_result"
    }
   ],
   "source": [
    "df_sum_bens_por_partido.head()"
   ]
  },
  {
   "cell_type": "markdown",
   "metadata": {},
   "source": [
    "# Plot"
   ]
  },
  {
   "cell_type": "code",
   "execution_count": 145,
   "metadata": {
    "ExecuteTime": {
     "end_time": "2020-10-27T19:48:33.703219Z",
     "start_time": "2020-10-27T19:48:33.697219Z"
    }
   },
   "outputs": [],
   "source": [
    "import matplotlib.pyplot as plt\n",
    "import squarify \n",
    "\n",
    "import plotly.express as px"
   ]
  },
  {
   "cell_type": "code",
   "execution_count": 148,
   "metadata": {
    "ExecuteTime": {
     "end_time": "2020-10-27T19:48:50.699840Z",
     "start_time": "2020-10-27T19:48:50.648806Z"
    }
   },
   "outputs": [
    {
     "data": {
      "application/vnd.plotly.v1+json": {
       "config": {
        "plotlyServerURL": "https://plot.ly"
       },
       "data": [
        {
         "alignmentgroup": "True",
         "hovertemplate": "Partido=%{x}<br>Soma de Bens=%{marker.color}<extra></extra>",
         "legendgroup": "",
         "marker": {
          "color": [
           8500,
           193500,
           209523,
           871980.23,
           1174964.89,
           1204000,
           2554300,
           2572480,
           2764517.0399999996,
           2805564.0599999996,
           2851811.5700000003,
           3256771.3000000003,
           3259651.77,
           3935254.7,
           4399501.82,
           4586110.2,
           4601991.51,
           4669570.539999999,
           5290791.640000001,
           5460990,
           6271669.090000001,
           6507637.840000001,
           7363584.869999999,
           7565759.33,
           8397355.59,
           9750008.850000001
          ],
          "coloraxis": "coloraxis"
         },
         "name": "",
         "offsetgroup": "",
         "orientation": "v",
         "showlegend": false,
         "textposition": "auto",
         "type": "bar",
         "x": [
          "29",
          "33",
          "80",
          "20",
          "50",
          "16",
          "90",
          "22",
          "10",
          "18",
          "25",
          "23",
          "70",
          "40",
          "65",
          "35",
          "45",
          "11",
          "12",
          "17",
          "51",
          "43",
          "13",
          "28",
          "77",
          "15"
         ],
         "xaxis": "x",
         "y": [
          8500,
          193500,
          209523,
          871980.23,
          1174964.89,
          1204000,
          2554300,
          2572480,
          2764517.0399999996,
          2805564.0599999996,
          2851811.5700000003,
          3256771.3000000003,
          3259651.77,
          3935254.7,
          4399501.82,
          4586110.2,
          4601991.51,
          4669570.539999999,
          5290791.640000001,
          5460990,
          6271669.090000001,
          6507637.840000001,
          7363584.869999999,
          7565759.33,
          8397355.59,
          9750008.850000001
         ],
         "yaxis": "y"
        }
       ],
       "layout": {
        "barmode": "relative",
        "coloraxis": {
         "colorbar": {
          "title": {
           "text": "Soma de Bens"
          }
         },
         "colorscale": [
          [
           0,
           "#0d0887"
          ],
          [
           0.1111111111111111,
           "#46039f"
          ],
          [
           0.2222222222222222,
           "#7201a8"
          ],
          [
           0.3333333333333333,
           "#9c179e"
          ],
          [
           0.4444444444444444,
           "#bd3786"
          ],
          [
           0.5555555555555556,
           "#d8576b"
          ],
          [
           0.6666666666666666,
           "#ed7953"
          ],
          [
           0.7777777777777778,
           "#fb9f3a"
          ],
          [
           0.8888888888888888,
           "#fdca26"
          ],
          [
           1,
           "#f0f921"
          ]
         ]
        },
        "legend": {
         "tracegroupgap": 0
        },
        "margin": {
         "t": 60
        },
        "template": {
         "data": {
          "bar": [
           {
            "error_x": {
             "color": "#2a3f5f"
            },
            "error_y": {
             "color": "#2a3f5f"
            },
            "marker": {
             "line": {
              "color": "#E5ECF6",
              "width": 0.5
             }
            },
            "type": "bar"
           }
          ],
          "barpolar": [
           {
            "marker": {
             "line": {
              "color": "#E5ECF6",
              "width": 0.5
             }
            },
            "type": "barpolar"
           }
          ],
          "carpet": [
           {
            "aaxis": {
             "endlinecolor": "#2a3f5f",
             "gridcolor": "white",
             "linecolor": "white",
             "minorgridcolor": "white",
             "startlinecolor": "#2a3f5f"
            },
            "baxis": {
             "endlinecolor": "#2a3f5f",
             "gridcolor": "white",
             "linecolor": "white",
             "minorgridcolor": "white",
             "startlinecolor": "#2a3f5f"
            },
            "type": "carpet"
           }
          ],
          "choropleth": [
           {
            "colorbar": {
             "outlinewidth": 0,
             "ticks": ""
            },
            "type": "choropleth"
           }
          ],
          "contour": [
           {
            "colorbar": {
             "outlinewidth": 0,
             "ticks": ""
            },
            "colorscale": [
             [
              0,
              "#0d0887"
             ],
             [
              0.1111111111111111,
              "#46039f"
             ],
             [
              0.2222222222222222,
              "#7201a8"
             ],
             [
              0.3333333333333333,
              "#9c179e"
             ],
             [
              0.4444444444444444,
              "#bd3786"
             ],
             [
              0.5555555555555556,
              "#d8576b"
             ],
             [
              0.6666666666666666,
              "#ed7953"
             ],
             [
              0.7777777777777778,
              "#fb9f3a"
             ],
             [
              0.8888888888888888,
              "#fdca26"
             ],
             [
              1,
              "#f0f921"
             ]
            ],
            "type": "contour"
           }
          ],
          "contourcarpet": [
           {
            "colorbar": {
             "outlinewidth": 0,
             "ticks": ""
            },
            "type": "contourcarpet"
           }
          ],
          "heatmap": [
           {
            "colorbar": {
             "outlinewidth": 0,
             "ticks": ""
            },
            "colorscale": [
             [
              0,
              "#0d0887"
             ],
             [
              0.1111111111111111,
              "#46039f"
             ],
             [
              0.2222222222222222,
              "#7201a8"
             ],
             [
              0.3333333333333333,
              "#9c179e"
             ],
             [
              0.4444444444444444,
              "#bd3786"
             ],
             [
              0.5555555555555556,
              "#d8576b"
             ],
             [
              0.6666666666666666,
              "#ed7953"
             ],
             [
              0.7777777777777778,
              "#fb9f3a"
             ],
             [
              0.8888888888888888,
              "#fdca26"
             ],
             [
              1,
              "#f0f921"
             ]
            ],
            "type": "heatmap"
           }
          ],
          "heatmapgl": [
           {
            "colorbar": {
             "outlinewidth": 0,
             "ticks": ""
            },
            "colorscale": [
             [
              0,
              "#0d0887"
             ],
             [
              0.1111111111111111,
              "#46039f"
             ],
             [
              0.2222222222222222,
              "#7201a8"
             ],
             [
              0.3333333333333333,
              "#9c179e"
             ],
             [
              0.4444444444444444,
              "#bd3786"
             ],
             [
              0.5555555555555556,
              "#d8576b"
             ],
             [
              0.6666666666666666,
              "#ed7953"
             ],
             [
              0.7777777777777778,
              "#fb9f3a"
             ],
             [
              0.8888888888888888,
              "#fdca26"
             ],
             [
              1,
              "#f0f921"
             ]
            ],
            "type": "heatmapgl"
           }
          ],
          "histogram": [
           {
            "marker": {
             "colorbar": {
              "outlinewidth": 0,
              "ticks": ""
             }
            },
            "type": "histogram"
           }
          ],
          "histogram2d": [
           {
            "colorbar": {
             "outlinewidth": 0,
             "ticks": ""
            },
            "colorscale": [
             [
              0,
              "#0d0887"
             ],
             [
              0.1111111111111111,
              "#46039f"
             ],
             [
              0.2222222222222222,
              "#7201a8"
             ],
             [
              0.3333333333333333,
              "#9c179e"
             ],
             [
              0.4444444444444444,
              "#bd3786"
             ],
             [
              0.5555555555555556,
              "#d8576b"
             ],
             [
              0.6666666666666666,
              "#ed7953"
             ],
             [
              0.7777777777777778,
              "#fb9f3a"
             ],
             [
              0.8888888888888888,
              "#fdca26"
             ],
             [
              1,
              "#f0f921"
             ]
            ],
            "type": "histogram2d"
           }
          ],
          "histogram2dcontour": [
           {
            "colorbar": {
             "outlinewidth": 0,
             "ticks": ""
            },
            "colorscale": [
             [
              0,
              "#0d0887"
             ],
             [
              0.1111111111111111,
              "#46039f"
             ],
             [
              0.2222222222222222,
              "#7201a8"
             ],
             [
              0.3333333333333333,
              "#9c179e"
             ],
             [
              0.4444444444444444,
              "#bd3786"
             ],
             [
              0.5555555555555556,
              "#d8576b"
             ],
             [
              0.6666666666666666,
              "#ed7953"
             ],
             [
              0.7777777777777778,
              "#fb9f3a"
             ],
             [
              0.8888888888888888,
              "#fdca26"
             ],
             [
              1,
              "#f0f921"
             ]
            ],
            "type": "histogram2dcontour"
           }
          ],
          "mesh3d": [
           {
            "colorbar": {
             "outlinewidth": 0,
             "ticks": ""
            },
            "type": "mesh3d"
           }
          ],
          "parcoords": [
           {
            "line": {
             "colorbar": {
              "outlinewidth": 0,
              "ticks": ""
             }
            },
            "type": "parcoords"
           }
          ],
          "pie": [
           {
            "automargin": true,
            "type": "pie"
           }
          ],
          "scatter": [
           {
            "marker": {
             "colorbar": {
              "outlinewidth": 0,
              "ticks": ""
             }
            },
            "type": "scatter"
           }
          ],
          "scatter3d": [
           {
            "line": {
             "colorbar": {
              "outlinewidth": 0,
              "ticks": ""
             }
            },
            "marker": {
             "colorbar": {
              "outlinewidth": 0,
              "ticks": ""
             }
            },
            "type": "scatter3d"
           }
          ],
          "scattercarpet": [
           {
            "marker": {
             "colorbar": {
              "outlinewidth": 0,
              "ticks": ""
             }
            },
            "type": "scattercarpet"
           }
          ],
          "scattergeo": [
           {
            "marker": {
             "colorbar": {
              "outlinewidth": 0,
              "ticks": ""
             }
            },
            "type": "scattergeo"
           }
          ],
          "scattergl": [
           {
            "marker": {
             "colorbar": {
              "outlinewidth": 0,
              "ticks": ""
             }
            },
            "type": "scattergl"
           }
          ],
          "scattermapbox": [
           {
            "marker": {
             "colorbar": {
              "outlinewidth": 0,
              "ticks": ""
             }
            },
            "type": "scattermapbox"
           }
          ],
          "scatterpolar": [
           {
            "marker": {
             "colorbar": {
              "outlinewidth": 0,
              "ticks": ""
             }
            },
            "type": "scatterpolar"
           }
          ],
          "scatterpolargl": [
           {
            "marker": {
             "colorbar": {
              "outlinewidth": 0,
              "ticks": ""
             }
            },
            "type": "scatterpolargl"
           }
          ],
          "scatterternary": [
           {
            "marker": {
             "colorbar": {
              "outlinewidth": 0,
              "ticks": ""
             }
            },
            "type": "scatterternary"
           }
          ],
          "surface": [
           {
            "colorbar": {
             "outlinewidth": 0,
             "ticks": ""
            },
            "colorscale": [
             [
              0,
              "#0d0887"
             ],
             [
              0.1111111111111111,
              "#46039f"
             ],
             [
              0.2222222222222222,
              "#7201a8"
             ],
             [
              0.3333333333333333,
              "#9c179e"
             ],
             [
              0.4444444444444444,
              "#bd3786"
             ],
             [
              0.5555555555555556,
              "#d8576b"
             ],
             [
              0.6666666666666666,
              "#ed7953"
             ],
             [
              0.7777777777777778,
              "#fb9f3a"
             ],
             [
              0.8888888888888888,
              "#fdca26"
             ],
             [
              1,
              "#f0f921"
             ]
            ],
            "type": "surface"
           }
          ],
          "table": [
           {
            "cells": {
             "fill": {
              "color": "#EBF0F8"
             },
             "line": {
              "color": "white"
             }
            },
            "header": {
             "fill": {
              "color": "#C8D4E3"
             },
             "line": {
              "color": "white"
             }
            },
            "type": "table"
           }
          ]
         },
         "layout": {
          "annotationdefaults": {
           "arrowcolor": "#2a3f5f",
           "arrowhead": 0,
           "arrowwidth": 1
          },
          "coloraxis": {
           "colorbar": {
            "outlinewidth": 0,
            "ticks": ""
           }
          },
          "colorscale": {
           "diverging": [
            [
             0,
             "#8e0152"
            ],
            [
             0.1,
             "#c51b7d"
            ],
            [
             0.2,
             "#de77ae"
            ],
            [
             0.3,
             "#f1b6da"
            ],
            [
             0.4,
             "#fde0ef"
            ],
            [
             0.5,
             "#f7f7f7"
            ],
            [
             0.6,
             "#e6f5d0"
            ],
            [
             0.7,
             "#b8e186"
            ],
            [
             0.8,
             "#7fbc41"
            ],
            [
             0.9,
             "#4d9221"
            ],
            [
             1,
             "#276419"
            ]
           ],
           "sequential": [
            [
             0,
             "#0d0887"
            ],
            [
             0.1111111111111111,
             "#46039f"
            ],
            [
             0.2222222222222222,
             "#7201a8"
            ],
            [
             0.3333333333333333,
             "#9c179e"
            ],
            [
             0.4444444444444444,
             "#bd3786"
            ],
            [
             0.5555555555555556,
             "#d8576b"
            ],
            [
             0.6666666666666666,
             "#ed7953"
            ],
            [
             0.7777777777777778,
             "#fb9f3a"
            ],
            [
             0.8888888888888888,
             "#fdca26"
            ],
            [
             1,
             "#f0f921"
            ]
           ],
           "sequentialminus": [
            [
             0,
             "#0d0887"
            ],
            [
             0.1111111111111111,
             "#46039f"
            ],
            [
             0.2222222222222222,
             "#7201a8"
            ],
            [
             0.3333333333333333,
             "#9c179e"
            ],
            [
             0.4444444444444444,
             "#bd3786"
            ],
            [
             0.5555555555555556,
             "#d8576b"
            ],
            [
             0.6666666666666666,
             "#ed7953"
            ],
            [
             0.7777777777777778,
             "#fb9f3a"
            ],
            [
             0.8888888888888888,
             "#fdca26"
            ],
            [
             1,
             "#f0f921"
            ]
           ]
          },
          "colorway": [
           "#636efa",
           "#EF553B",
           "#00cc96",
           "#ab63fa",
           "#FFA15A",
           "#19d3f3",
           "#FF6692",
           "#B6E880",
           "#FF97FF",
           "#FECB52"
          ],
          "font": {
           "color": "#2a3f5f"
          },
          "geo": {
           "bgcolor": "white",
           "lakecolor": "white",
           "landcolor": "#E5ECF6",
           "showlakes": true,
           "showland": true,
           "subunitcolor": "white"
          },
          "hoverlabel": {
           "align": "left"
          },
          "hovermode": "closest",
          "mapbox": {
           "style": "light"
          },
          "paper_bgcolor": "white",
          "plot_bgcolor": "#E5ECF6",
          "polar": {
           "angularaxis": {
            "gridcolor": "white",
            "linecolor": "white",
            "ticks": ""
           },
           "bgcolor": "#E5ECF6",
           "radialaxis": {
            "gridcolor": "white",
            "linecolor": "white",
            "ticks": ""
           }
          },
          "scene": {
           "xaxis": {
            "backgroundcolor": "#E5ECF6",
            "gridcolor": "white",
            "gridwidth": 2,
            "linecolor": "white",
            "showbackground": true,
            "ticks": "",
            "zerolinecolor": "white"
           },
           "yaxis": {
            "backgroundcolor": "#E5ECF6",
            "gridcolor": "white",
            "gridwidth": 2,
            "linecolor": "white",
            "showbackground": true,
            "ticks": "",
            "zerolinecolor": "white"
           },
           "zaxis": {
            "backgroundcolor": "#E5ECF6",
            "gridcolor": "white",
            "gridwidth": 2,
            "linecolor": "white",
            "showbackground": true,
            "ticks": "",
            "zerolinecolor": "white"
           }
          },
          "shapedefaults": {
           "line": {
            "color": "#2a3f5f"
           }
          },
          "ternary": {
           "aaxis": {
            "gridcolor": "white",
            "linecolor": "white",
            "ticks": ""
           },
           "baxis": {
            "gridcolor": "white",
            "linecolor": "white",
            "ticks": ""
           },
           "bgcolor": "#E5ECF6",
           "caxis": {
            "gridcolor": "white",
            "linecolor": "white",
            "ticks": ""
           }
          },
          "title": {
           "x": 0.05
          },
          "xaxis": {
           "automargin": true,
           "gridcolor": "white",
           "linecolor": "white",
           "ticks": "",
           "title": {
            "standoff": 15
           },
           "zerolinecolor": "white",
           "zerolinewidth": 2
          },
          "yaxis": {
           "automargin": true,
           "gridcolor": "white",
           "linecolor": "white",
           "ticks": "",
           "title": {
            "standoff": 15
           },
           "zerolinecolor": "white",
           "zerolinewidth": 2
          }
         }
        },
        "xaxis": {
         "anchor": "y",
         "domain": [
          0,
          1
         ],
         "title": {
          "text": "Partido"
         }
        },
        "yaxis": {
         "anchor": "x",
         "domain": [
          0,
          1
         ],
         "title": {
          "text": "Soma de Bens"
         }
        }
       }
      },
      "text/html": [
       "<div>                            <div id=\"fc4b7ead-bb05-4eef-84a8-946cfcede84a\" class=\"plotly-graph-div\" style=\"height:525px; width:100%;\"></div>            <script type=\"text/javascript\">                require([\"plotly\"], function(Plotly) {                    window.PLOTLYENV=window.PLOTLYENV || {};                                    if (document.getElementById(\"fc4b7ead-bb05-4eef-84a8-946cfcede84a\")) {                    Plotly.newPlot(                        \"fc4b7ead-bb05-4eef-84a8-946cfcede84a\",                        [{\"alignmentgroup\": \"True\", \"hovertemplate\": \"Partido=%{x}<br>Soma de Bens=%{marker.color}<extra></extra>\", \"legendgroup\": \"\", \"marker\": {\"color\": [8500.0, 193500.0, 209523.0, 871980.23, 1174964.89, 1204000.0, 2554300.0, 2572480.0, 2764517.0399999996, 2805564.0599999996, 2851811.5700000003, 3256771.3000000003, 3259651.77, 3935254.7, 4399501.82, 4586110.2, 4601991.51, 4669570.539999999, 5290791.640000001, 5460990.0, 6271669.090000001, 6507637.840000001, 7363584.869999999, 7565759.33, 8397355.59, 9750008.850000001], \"coloraxis\": \"coloraxis\"}, \"name\": \"\", \"offsetgroup\": \"\", \"orientation\": \"v\", \"showlegend\": false, \"textposition\": \"auto\", \"type\": \"bar\", \"x\": [\"29\", \"33\", \"80\", \"20\", \"50\", \"16\", \"90\", \"22\", \"10\", \"18\", \"25\", \"23\", \"70\", \"40\", \"65\", \"35\", \"45\", \"11\", \"12\", \"17\", \"51\", \"43\", \"13\", \"28\", \"77\", \"15\"], \"xaxis\": \"x\", \"y\": [8500.0, 193500.0, 209523.0, 871980.23, 1174964.89, 1204000.0, 2554300.0, 2572480.0, 2764517.0399999996, 2805564.0599999996, 2851811.5700000003, 3256771.3000000003, 3259651.77, 3935254.7, 4399501.82, 4586110.2, 4601991.51, 4669570.539999999, 5290791.640000001, 5460990.0, 6271669.090000001, 6507637.840000001, 7363584.869999999, 7565759.33, 8397355.59, 9750008.850000001], \"yaxis\": \"y\"}],                        {\"barmode\": \"relative\", \"coloraxis\": {\"colorbar\": {\"title\": {\"text\": \"Soma de Bens\"}}, \"colorscale\": [[0.0, \"#0d0887\"], [0.1111111111111111, \"#46039f\"], [0.2222222222222222, \"#7201a8\"], [0.3333333333333333, \"#9c179e\"], [0.4444444444444444, \"#bd3786\"], [0.5555555555555556, \"#d8576b\"], [0.6666666666666666, \"#ed7953\"], [0.7777777777777778, \"#fb9f3a\"], [0.8888888888888888, \"#fdca26\"], [1.0, \"#f0f921\"]]}, \"legend\": {\"tracegroupgap\": 0}, \"margin\": {\"t\": 60}, \"template\": {\"data\": {\"bar\": [{\"error_x\": {\"color\": \"#2a3f5f\"}, \"error_y\": {\"color\": \"#2a3f5f\"}, \"marker\": {\"line\": {\"color\": \"#E5ECF6\", \"width\": 0.5}}, \"type\": \"bar\"}], \"barpolar\": [{\"marker\": {\"line\": {\"color\": \"#E5ECF6\", \"width\": 0.5}}, \"type\": \"barpolar\"}], \"carpet\": [{\"aaxis\": {\"endlinecolor\": \"#2a3f5f\", \"gridcolor\": \"white\", \"linecolor\": \"white\", \"minorgridcolor\": \"white\", \"startlinecolor\": \"#2a3f5f\"}, \"baxis\": {\"endlinecolor\": \"#2a3f5f\", \"gridcolor\": \"white\", \"linecolor\": \"white\", \"minorgridcolor\": \"white\", \"startlinecolor\": \"#2a3f5f\"}, \"type\": \"carpet\"}], \"choropleth\": [{\"colorbar\": {\"outlinewidth\": 0, \"ticks\": \"\"}, \"type\": \"choropleth\"}], \"contour\": [{\"colorbar\": {\"outlinewidth\": 0, \"ticks\": \"\"}, \"colorscale\": [[0.0, \"#0d0887\"], [0.1111111111111111, \"#46039f\"], [0.2222222222222222, \"#7201a8\"], [0.3333333333333333, \"#9c179e\"], [0.4444444444444444, \"#bd3786\"], [0.5555555555555556, \"#d8576b\"], [0.6666666666666666, \"#ed7953\"], [0.7777777777777778, \"#fb9f3a\"], [0.8888888888888888, \"#fdca26\"], [1.0, \"#f0f921\"]], \"type\": \"contour\"}], \"contourcarpet\": [{\"colorbar\": {\"outlinewidth\": 0, \"ticks\": \"\"}, \"type\": \"contourcarpet\"}], \"heatmap\": [{\"colorbar\": {\"outlinewidth\": 0, \"ticks\": \"\"}, \"colorscale\": [[0.0, \"#0d0887\"], [0.1111111111111111, \"#46039f\"], [0.2222222222222222, \"#7201a8\"], [0.3333333333333333, \"#9c179e\"], [0.4444444444444444, \"#bd3786\"], [0.5555555555555556, \"#d8576b\"], [0.6666666666666666, \"#ed7953\"], [0.7777777777777778, \"#fb9f3a\"], [0.8888888888888888, \"#fdca26\"], [1.0, \"#f0f921\"]], \"type\": \"heatmap\"}], \"heatmapgl\": [{\"colorbar\": {\"outlinewidth\": 0, \"ticks\": \"\"}, \"colorscale\": [[0.0, \"#0d0887\"], [0.1111111111111111, \"#46039f\"], [0.2222222222222222, \"#7201a8\"], [0.3333333333333333, \"#9c179e\"], [0.4444444444444444, \"#bd3786\"], [0.5555555555555556, \"#d8576b\"], [0.6666666666666666, \"#ed7953\"], [0.7777777777777778, \"#fb9f3a\"], [0.8888888888888888, \"#fdca26\"], [1.0, \"#f0f921\"]], \"type\": \"heatmapgl\"}], \"histogram\": [{\"marker\": {\"colorbar\": {\"outlinewidth\": 0, \"ticks\": \"\"}}, \"type\": \"histogram\"}], \"histogram2d\": [{\"colorbar\": {\"outlinewidth\": 0, \"ticks\": \"\"}, \"colorscale\": [[0.0, \"#0d0887\"], [0.1111111111111111, \"#46039f\"], [0.2222222222222222, \"#7201a8\"], [0.3333333333333333, \"#9c179e\"], [0.4444444444444444, \"#bd3786\"], [0.5555555555555556, \"#d8576b\"], [0.6666666666666666, \"#ed7953\"], [0.7777777777777778, \"#fb9f3a\"], [0.8888888888888888, \"#fdca26\"], [1.0, \"#f0f921\"]], \"type\": \"histogram2d\"}], \"histogram2dcontour\": [{\"colorbar\": {\"outlinewidth\": 0, \"ticks\": \"\"}, \"colorscale\": [[0.0, \"#0d0887\"], [0.1111111111111111, \"#46039f\"], [0.2222222222222222, \"#7201a8\"], [0.3333333333333333, \"#9c179e\"], [0.4444444444444444, \"#bd3786\"], [0.5555555555555556, \"#d8576b\"], [0.6666666666666666, \"#ed7953\"], [0.7777777777777778, \"#fb9f3a\"], [0.8888888888888888, \"#fdca26\"], [1.0, \"#f0f921\"]], \"type\": \"histogram2dcontour\"}], \"mesh3d\": [{\"colorbar\": {\"outlinewidth\": 0, \"ticks\": \"\"}, \"type\": \"mesh3d\"}], \"parcoords\": [{\"line\": {\"colorbar\": {\"outlinewidth\": 0, \"ticks\": \"\"}}, \"type\": \"parcoords\"}], \"pie\": [{\"automargin\": true, \"type\": \"pie\"}], \"scatter\": [{\"marker\": {\"colorbar\": {\"outlinewidth\": 0, \"ticks\": \"\"}}, \"type\": \"scatter\"}], \"scatter3d\": [{\"line\": {\"colorbar\": {\"outlinewidth\": 0, \"ticks\": \"\"}}, \"marker\": {\"colorbar\": {\"outlinewidth\": 0, \"ticks\": \"\"}}, \"type\": \"scatter3d\"}], \"scattercarpet\": [{\"marker\": {\"colorbar\": {\"outlinewidth\": 0, \"ticks\": \"\"}}, \"type\": \"scattercarpet\"}], \"scattergeo\": [{\"marker\": {\"colorbar\": {\"outlinewidth\": 0, \"ticks\": \"\"}}, \"type\": \"scattergeo\"}], \"scattergl\": [{\"marker\": {\"colorbar\": {\"outlinewidth\": 0, \"ticks\": \"\"}}, \"type\": \"scattergl\"}], \"scattermapbox\": [{\"marker\": {\"colorbar\": {\"outlinewidth\": 0, \"ticks\": \"\"}}, \"type\": \"scattermapbox\"}], \"scatterpolar\": [{\"marker\": {\"colorbar\": {\"outlinewidth\": 0, \"ticks\": \"\"}}, \"type\": \"scatterpolar\"}], \"scatterpolargl\": [{\"marker\": {\"colorbar\": {\"outlinewidth\": 0, \"ticks\": \"\"}}, \"type\": \"scatterpolargl\"}], \"scatterternary\": [{\"marker\": {\"colorbar\": {\"outlinewidth\": 0, \"ticks\": \"\"}}, \"type\": \"scatterternary\"}], \"surface\": [{\"colorbar\": {\"outlinewidth\": 0, \"ticks\": \"\"}, \"colorscale\": [[0.0, \"#0d0887\"], [0.1111111111111111, \"#46039f\"], [0.2222222222222222, \"#7201a8\"], [0.3333333333333333, \"#9c179e\"], [0.4444444444444444, \"#bd3786\"], [0.5555555555555556, \"#d8576b\"], [0.6666666666666666, \"#ed7953\"], [0.7777777777777778, \"#fb9f3a\"], [0.8888888888888888, \"#fdca26\"], [1.0, \"#f0f921\"]], \"type\": \"surface\"}], \"table\": [{\"cells\": {\"fill\": {\"color\": \"#EBF0F8\"}, \"line\": {\"color\": \"white\"}}, \"header\": {\"fill\": {\"color\": \"#C8D4E3\"}, \"line\": {\"color\": \"white\"}}, \"type\": \"table\"}]}, \"layout\": {\"annotationdefaults\": {\"arrowcolor\": \"#2a3f5f\", \"arrowhead\": 0, \"arrowwidth\": 1}, \"coloraxis\": {\"colorbar\": {\"outlinewidth\": 0, \"ticks\": \"\"}}, \"colorscale\": {\"diverging\": [[0, \"#8e0152\"], [0.1, \"#c51b7d\"], [0.2, \"#de77ae\"], [0.3, \"#f1b6da\"], [0.4, \"#fde0ef\"], [0.5, \"#f7f7f7\"], [0.6, \"#e6f5d0\"], [0.7, \"#b8e186\"], [0.8, \"#7fbc41\"], [0.9, \"#4d9221\"], [1, \"#276419\"]], \"sequential\": [[0.0, \"#0d0887\"], [0.1111111111111111, \"#46039f\"], [0.2222222222222222, \"#7201a8\"], [0.3333333333333333, \"#9c179e\"], [0.4444444444444444, \"#bd3786\"], [0.5555555555555556, \"#d8576b\"], [0.6666666666666666, \"#ed7953\"], [0.7777777777777778, \"#fb9f3a\"], [0.8888888888888888, \"#fdca26\"], [1.0, \"#f0f921\"]], \"sequentialminus\": [[0.0, \"#0d0887\"], [0.1111111111111111, \"#46039f\"], [0.2222222222222222, \"#7201a8\"], [0.3333333333333333, \"#9c179e\"], [0.4444444444444444, \"#bd3786\"], [0.5555555555555556, \"#d8576b\"], [0.6666666666666666, \"#ed7953\"], [0.7777777777777778, \"#fb9f3a\"], [0.8888888888888888, \"#fdca26\"], [1.0, \"#f0f921\"]]}, \"colorway\": [\"#636efa\", \"#EF553B\", \"#00cc96\", \"#ab63fa\", \"#FFA15A\", \"#19d3f3\", \"#FF6692\", \"#B6E880\", \"#FF97FF\", \"#FECB52\"], \"font\": {\"color\": \"#2a3f5f\"}, \"geo\": {\"bgcolor\": \"white\", \"lakecolor\": \"white\", \"landcolor\": \"#E5ECF6\", \"showlakes\": true, \"showland\": true, \"subunitcolor\": \"white\"}, \"hoverlabel\": {\"align\": \"left\"}, \"hovermode\": \"closest\", \"mapbox\": {\"style\": \"light\"}, \"paper_bgcolor\": \"white\", \"plot_bgcolor\": \"#E5ECF6\", \"polar\": {\"angularaxis\": {\"gridcolor\": \"white\", \"linecolor\": \"white\", \"ticks\": \"\"}, \"bgcolor\": \"#E5ECF6\", \"radialaxis\": {\"gridcolor\": \"white\", \"linecolor\": \"white\", \"ticks\": \"\"}}, \"scene\": {\"xaxis\": {\"backgroundcolor\": \"#E5ECF6\", \"gridcolor\": \"white\", \"gridwidth\": 2, \"linecolor\": \"white\", \"showbackground\": true, \"ticks\": \"\", \"zerolinecolor\": \"white\"}, \"yaxis\": {\"backgroundcolor\": \"#E5ECF6\", \"gridcolor\": \"white\", \"gridwidth\": 2, \"linecolor\": \"white\", \"showbackground\": true, \"ticks\": \"\", \"zerolinecolor\": \"white\"}, \"zaxis\": {\"backgroundcolor\": \"#E5ECF6\", \"gridcolor\": \"white\", \"gridwidth\": 2, \"linecolor\": \"white\", \"showbackground\": true, \"ticks\": \"\", \"zerolinecolor\": \"white\"}}, \"shapedefaults\": {\"line\": {\"color\": \"#2a3f5f\"}}, \"ternary\": {\"aaxis\": {\"gridcolor\": \"white\", \"linecolor\": \"white\", \"ticks\": \"\"}, \"baxis\": {\"gridcolor\": \"white\", \"linecolor\": \"white\", \"ticks\": \"\"}, \"bgcolor\": \"#E5ECF6\", \"caxis\": {\"gridcolor\": \"white\", \"linecolor\": \"white\", \"ticks\": \"\"}}, \"title\": {\"x\": 0.05}, \"xaxis\": {\"automargin\": true, \"gridcolor\": \"white\", \"linecolor\": \"white\", \"ticks\": \"\", \"title\": {\"standoff\": 15}, \"zerolinecolor\": \"white\", \"zerolinewidth\": 2}, \"yaxis\": {\"automargin\": true, \"gridcolor\": \"white\", \"linecolor\": \"white\", \"ticks\": \"\", \"title\": {\"standoff\": 15}, \"zerolinecolor\": \"white\", \"zerolinewidth\": 2}}}, \"xaxis\": {\"anchor\": \"y\", \"domain\": [0.0, 1.0], \"title\": {\"text\": \"Partido\"}}, \"yaxis\": {\"anchor\": \"x\", \"domain\": [0.0, 1.0], \"title\": {\"text\": \"Soma de Bens\"}}},                        {\"responsive\": true}                    ).then(function(){\n",
       "                            \n",
       "var gd = document.getElementById('fc4b7ead-bb05-4eef-84a8-946cfcede84a');\n",
       "var x = new MutationObserver(function (mutations, observer) {{\n",
       "        var display = window.getComputedStyle(gd).display;\n",
       "        if (!display || display === 'none') {{\n",
       "            console.log([gd, 'removed!']);\n",
       "            Plotly.purge(gd);\n",
       "            observer.disconnect();\n",
       "        }}\n",
       "}});\n",
       "\n",
       "// Listen for the removal of the full notebook cells\n",
       "var notebookContainer = gd.closest('#notebook-container');\n",
       "if (notebookContainer) {{\n",
       "    x.observe(notebookContainer, {childList: true});\n",
       "}}\n",
       "\n",
       "// Listen for the clearing of the current output cell\n",
       "var outputEl = gd.closest('.output');\n",
       "if (outputEl) {{\n",
       "    x.observe(outputEl, {childList: true});\n",
       "}}\n",
       "\n",
       "                        })                };                });            </script>        </div>"
      ]
     },
     "metadata": {},
     "output_type": "display_data"
    }
   ],
   "source": [
    "fig = px.bar(df_sum_bens_por_partido, x='Partido', y='Soma de Bens',color='Soma de Bens')\n",
    "fig.show()"
   ]
  },
  {
   "cell_type": "code",
   "execution_count": 126,
   "metadata": {
    "ExecuteTime": {
     "end_time": "2020-10-27T12:27:30.494188Z",
     "start_time": "2020-10-27T12:27:30.378188Z"
    }
   },
   "outputs": [
    {
     "data": {
      "image/png": "[encoded data removed]",
      "text/plain": [
       "<Figure size 432x288 with 1 Axes>"
      ]
     },
     "metadata": {
      "needs_background": "light"
     },
     "output_type": "display_data"
    },
    {
     "data": {
      "text/plain": [
       "<Figure size 1440x720 with 0 Axes>"
      ]
     },
     "metadata": {},
     "output_type": "display_data"
    }
   ],
   "source": [
    "# If you have 2 lists\n",
    "squarify.plot(sizes=df_sum_bens_por_partido.sum_bens_por_partido, label=df_sum_bens_por_partido.index, alpha=.7 )\n",
    "plt.axis('off')\n",
    "plt.show()"
   ]
  }
 ],
 "metadata": {
  "hide_input": false,
  "kernelspec": {
   "display_name": "Python 3",
   "language": "python",
   "name": "python3"
  },
  "language_info": {
   "codemirror_mode": {
    "name": "ipython",
    "version": 3
   },
   "file_extension": ".py",
   "mimetype": "text/x-python",
   "name": "python",
   "nbconvert_exporter": "python",
   "pygments_lexer": "ipython3",
   "version": "3.7.3"
  },
  "toc": {
   "base_numbering": 1,
   "nav_menu": {},
   "number_sections": true,
   "sideBar": true,
   "skip_h1_title": false,
   "title_cell": "Table of Contents",
   "title_sidebar": "Contents",
   "toc_cell": false,
   "toc_position": {},
   "toc_section_display": true,
   "toc_window_display": true
  }
 },
 "nbformat": 4,
 "nbformat_minor": 2
}
